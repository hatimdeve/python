{
  "nbformat": 4,
  "nbformat_minor": 0,
  "metadata": {
    "colab": {
      "name": "Untitled12.ipynb",
      "provenance": [],
      "authorship_tag": "ABX9TyO/n07ShWVl3hQzPvyawmLQ",
      "include_colab_link": true
    },
    "kernelspec": {
      "name": "python3",
      "display_name": "Python 3"
    },
    "language_info": {
      "name": "python"
    }
  },
  "cells": [
    {
      "cell_type": "markdown",
      "metadata": {
        "id": "view-in-github",
        "colab_type": "text"
      },
      "source": [
        "<a href=\"https://colab.research.google.com/github/hatimdeve/python/blob/main/poblempython.ipynb\" target=\"_parent\"><img src=\"https://colab.research.google.com/assets/colab-badge.svg\" alt=\"Open In Colab\"/></a>"
      ]
    },
    {
      "cell_type": "code",
      "execution_count": 4,
      "metadata": {
        "id": "SUy7dbAKXekk"
      },
      "outputs": [],
      "source": [
        "def fillmarkes():\n",
        "  markesstudents={}\n",
        "  while True:\n",
        "    studentid=input(\"entrer le id \")\n",
        "    markes=input('give the markes separated with \",\" ')\n",
        "    moremarkes=input('enter \"no\" to quit insertion')\n",
        "    if studentid in markesstudents:\n",
        "      print(studentid ,\"this id already exist\")\n",
        "    else:\n",
        "      markesstudents[studentid]=markes.split(',')\n",
        "    if moremarkes.lower()=='no':\n",
        "      return markesstudents\n",
        "    \n",
        "      \n",
        "\n"
      ]
    },
    {
      "cell_type": "code",
      "source": [
        "d=fillmarkes()"
      ],
      "metadata": {
        "colab": {
          "base_uri": "https://localhost:8080/"
        },
        "id": "UTcw5LLnaJGJ",
        "outputId": "45ca1ff6-0633-41f5-ce95-a18a105cb4bc"
      },
      "execution_count": 10,
      "outputs": [
        {
          "name": "stdout",
          "output_type": "stream",
          "text": [
            "entrer le id 1\n",
            "give the markes separated with \",\" 12,15,14\n",
            "enter \"no\" to quit insertionfhgf\n",
            "entrer le id 2\n",
            "give the markes separated with \",\" 12,12,15,16\n",
            "enter \"no\" to quit insertionrgrt\n",
            "entrer le id 3\n",
            "give the markes separated with \",\" 18,12,16,19,17\n",
            "enter \"no\" to quit insertionno\n"
          ]
        }
      ]
    },
    {
      "cell_type": "code",
      "source": [
        "d"
      ],
      "metadata": {
        "colab": {
          "base_uri": "https://localhost:8080/"
        },
        "id": "i0Qtv-n6brhe",
        "outputId": "bfa6e844-55bb-42dc-c1db-7d98675722ef"
      },
      "execution_count": 11,
      "outputs": [
        {
          "output_type": "execute_result",
          "data": {
            "text/plain": [
              "{'1': ['12', '15', '14'],\n",
              " '2': ['12', '12', '15', '16'],\n",
              " '3': ['18', '12', '16', '19', '17']}"
            ]
          },
          "metadata": {},
          "execution_count": 11
        }
      ]
    },
    {
      "cell_type": "code",
      "source": [
        "def markavg(d):\n",
        "  avgg={}\n",
        "  for x in d:\n",
        "    l=d[x]\n",
        "    s=0\n",
        "    for b in l:\n",
        "      s+=int(b)\n",
        "    avgg[x]=s/len(l)\n",
        "  return avgg    \n"
      ],
      "metadata": {
        "id": "ykbtD7O9buQt"
      },
      "execution_count": 14,
      "outputs": []
    },
    {
      "cell_type": "code",
      "source": [
        "avg=markavg(d)\n",
        "for x in avg:\n",
        "  print(\"student\",x,\": his marke is\", avg[x],\":\")\n"
      ],
      "metadata": {
        "colab": {
          "base_uri": "https://localhost:8080/"
        },
        "id": "ZW5zqH_Xce6-",
        "outputId": "449bb689-5444-45f5-89e6-8ddff76fc951"
      },
      "execution_count": 16,
      "outputs": [
        {
          "output_type": "stream",
          "name": "stdout",
          "text": [
            "student 1 : his marke is 13.666666666666666 :\n",
            "student 2 : his marke is 13.75 :\n",
            "student 3 : his marke is 16.4 :\n"
          ]
        }
      ]
    }
  ]
}