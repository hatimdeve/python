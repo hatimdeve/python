{
  "nbformat": 4,
  "nbformat_minor": 0,
  "metadata": {
    "colab": {
      "provenance": [],
      "authorship_tag": "ABX9TyNlv1pNv3zkIqVi+Q9n7wGi",
      "include_colab_link": true
    },
    "kernelspec": {
      "name": "python3",
      "display_name": "Python 3"
    },
    "language_info": {
      "name": "python"
    }
  },
  "cells": [
    {
      "cell_type": "markdown",
      "metadata": {
        "id": "view-in-github",
        "colab_type": "text"
      },
      "source": [
        "<a href=\"https://colab.research.google.com/github/hatimdeve/python/blob/main/tweets_classification.ipynb\" target=\"_parent\"><img src=\"https://colab.research.google.com/assets/colab-badge.svg\" alt=\"Open In Colab\"/></a>"
      ]
    },
    {
      "cell_type": "markdown",
      "source": [
        "# **Tweet classification task where the tweets could be either Politics or Sports. We will use in this classification Many models from Machine learning and deep learning**\n",
        "\n",
        "1.   ML models:\n",
        "*   SVM\n",
        "*   Logistic regression\n",
        "*   Naive Bayes\n",
        "2.   DL Models:\n",
        "*   RNN with Bidirectional LSTM\n",
        "*   CNN\n",
        "*   Pre_trained model from tensorflow_hub\n",
        "*   Hybride model \n",
        ">**At the end will choose the best model and use it on the test data to predict tweets type**\n"
      ],
      "metadata": {
        "id": "TMCe3GHvEz33"
      }
    },
    {
      "cell_type": "code",
      "source": [
        "!pip install nltk"
      ],
      "metadata": {
        "colab": {
          "base_uri": "https://localhost:8080/"
        },
        "id": "1TtpH98INwB0",
        "outputId": "7b7facd5-39e2-4175-b776-e53e2fcc0726"
      },
      "execution_count": 1,
      "outputs": [
        {
          "output_type": "stream",
          "name": "stdout",
          "text": [
            "Looking in indexes: https://pypi.org/simple, https://us-python.pkg.dev/colab-wheels/public/simple/\n",
            "Requirement already satisfied: nltk in /usr/local/lib/python3.9/dist-packages (3.8.1)\n",
            "Requirement already satisfied: click in /usr/local/lib/python3.9/dist-packages (from nltk) (8.1.3)\n",
            "Requirement already satisfied: regex>=2021.8.3 in /usr/local/lib/python3.9/dist-packages (from nltk) (2022.10.31)\n",
            "Requirement already satisfied: tqdm in /usr/local/lib/python3.9/dist-packages (from nltk) (4.65.0)\n",
            "Requirement already satisfied: joblib in /usr/local/lib/python3.9/dist-packages (from nltk) (1.2.0)\n"
          ]
        }
      ]
    },
    {
      "cell_type": "markdown",
      "source": [
        "## Libraries\n"
      ],
      "metadata": {
        "id": "bXwi8q3KFLot"
      }
    },
    {
      "cell_type": "code",
      "source": [
        "import numpy as np\n",
        "import matplotlib.pyplot as plt\n",
        "import pandas as pd \n",
        "import pandas as pd\n",
        "import numpy as np\n",
        "import tensorflow as tf\n",
        "import tensorflow_hub as hub\n",
        "from time import time\n",
        "\n",
        "from tensorflow.keras.layers import Embedding\n",
        "from tensorflow.keras.layers.experimental.preprocessing import TextVectorization\n",
        "from tensorflow.keras import layers\n",
        "\n",
        "from sklearn.model_selection import GridSearchCV\n",
        "from sklearn.feature_selection import SelectPercentile, f_classif\n",
        "from sklearn.metrics import accuracy_score\n",
        "from sklearn.svm import SVC\n",
        "from sklearn.naive_bayes import MultinomialNB,BernoulliNB,CategoricalNB,GaussianNB,ComplementNB\n",
        "from sklearn.linear_model import LogisticRegression\n",
        "from sklearn.pipeline import Pipeline\n",
        "from sklearn.feature_extraction.text import TfidfVectorizer\n",
        "from sklearn.model_selection import train_test_split\n",
        "#Data cleaning and preprocessing\n",
        "import re\n",
        "import nltk\n",
        "nltk.download('stopwords')\n",
        "from nltk.corpus import stopwords\n",
        "from nltk.stem import WordNetLemmatizer\n",
        "from nltk.stem.porter import PorterStemmer\n",
        "##Bag OF Words\n",
        "from sklearn.feature_extraction.text import CountVectorizer\n",
        "import gensim\n",
        "nltk.download('wordnet')\n",
        "ps = PorterStemmer()\n",
        "lemmatizer=WordNetLemmatizer()"
      ],
      "metadata": {
        "colab": {
          "base_uri": "https://localhost:8080/"
        },
        "id": "44ACGSJRE3P1",
        "outputId": "a743062e-8550-48c0-ef21-8bd3c5a8517a"
      },
      "execution_count": 2,
      "outputs": [
        {
          "output_type": "stream",
          "name": "stderr",
          "text": [
            "[nltk_data] Downloading package stopwords to /root/nltk_data...\n",
            "[nltk_data]   Unzipping corpora/stopwords.zip.\n",
            "[nltk_data] Downloading package wordnet to /root/nltk_data...\n"
          ]
        }
      ]
    },
    {
      "cell_type": "markdown",
      "source": [
        "## **A-Importing dataset and getting familiar with it**"
      ],
      "metadata": {
        "id": "sNVkL9MoFyRS"
      }
    },
    {
      "cell_type": "code",
      "source": [
        "train_data = pd.read_csv(\"/content/sample_data/train.csv\")\n",
        "test_data = pd.read_csv(\"/content/sample_data/test.csv\")\n",
        "\n",
        "train_data.head()"
      ],
      "metadata": {
        "colab": {
          "base_uri": "https://localhost:8080/",
          "height": 206
        },
        "id": "7RlIxV8rFxZv",
        "outputId": "9f37e642-1318-49fe-a3f6-5b95917c5012"
      },
      "execution_count": 3,
      "outputs": [
        {
          "output_type": "execute_result",
          "data": {
            "text/plain": [
              "              TweetId     Label  \\\n",
              "0  304271250237304833  Politics   \n",
              "1  304834304222064640  Politics   \n",
              "2  303568995880144898    Sports   \n",
              "3  304366580664528896    Sports   \n",
              "4  296770931098009601    Sports   \n",
              "\n",
              "                                           TweetText  \n",
              "0  '#SecKerry: The value of the @StateDept and @U...  \n",
              "1                            '@rraina1481 I fear so'  \n",
              "2  'Watch video highlights of the #wwc13 final be...  \n",
              "3  'RT @chelscanlan: At Nitro Circus at #AlbertPa...  \n",
              "4  '@cricketfox Always a good thing. Thanks for t...  "
            ],
            "text/html": [
              "\n",
              "  <div id=\"df-24c16d19-929a-483f-9326-4df9cd32296c\">\n",
              "    <div class=\"colab-df-container\">\n",
              "      <div>\n",
              "<style scoped>\n",
              "    .dataframe tbody tr th:only-of-type {\n",
              "        vertical-align: middle;\n",
              "    }\n",
              "\n",
              "    .dataframe tbody tr th {\n",
              "        vertical-align: top;\n",
              "    }\n",
              "\n",
              "    .dataframe thead th {\n",
              "        text-align: right;\n",
              "    }\n",
              "</style>\n",
              "<table border=\"1\" class=\"dataframe\">\n",
              "  <thead>\n",
              "    <tr style=\"text-align: right;\">\n",
              "      <th></th>\n",
              "      <th>TweetId</th>\n",
              "      <th>Label</th>\n",
              "      <th>TweetText</th>\n",
              "    </tr>\n",
              "  </thead>\n",
              "  <tbody>\n",
              "    <tr>\n",
              "      <th>0</th>\n",
              "      <td>304271250237304833</td>\n",
              "      <td>Politics</td>\n",
              "      <td>'#SecKerry: The value of the @StateDept and @U...</td>\n",
              "    </tr>\n",
              "    <tr>\n",
              "      <th>1</th>\n",
              "      <td>304834304222064640</td>\n",
              "      <td>Politics</td>\n",
              "      <td>'@rraina1481 I fear so'</td>\n",
              "    </tr>\n",
              "    <tr>\n",
              "      <th>2</th>\n",
              "      <td>303568995880144898</td>\n",
              "      <td>Sports</td>\n",
              "      <td>'Watch video highlights of the #wwc13 final be...</td>\n",
              "    </tr>\n",
              "    <tr>\n",
              "      <th>3</th>\n",
              "      <td>304366580664528896</td>\n",
              "      <td>Sports</td>\n",
              "      <td>'RT @chelscanlan: At Nitro Circus at #AlbertPa...</td>\n",
              "    </tr>\n",
              "    <tr>\n",
              "      <th>4</th>\n",
              "      <td>296770931098009601</td>\n",
              "      <td>Sports</td>\n",
              "      <td>'@cricketfox Always a good thing. Thanks for t...</td>\n",
              "    </tr>\n",
              "  </tbody>\n",
              "</table>\n",
              "</div>\n",
              "      <button class=\"colab-df-convert\" onclick=\"convertToInteractive('df-24c16d19-929a-483f-9326-4df9cd32296c')\"\n",
              "              title=\"Convert this dataframe to an interactive table.\"\n",
              "              style=\"display:none;\">\n",
              "        \n",
              "  <svg xmlns=\"http://www.w3.org/2000/svg\" height=\"24px\"viewBox=\"0 0 24 24\"\n",
              "       width=\"24px\">\n",
              "    <path d=\"M0 0h24v24H0V0z\" fill=\"none\"/>\n",
              "    <path d=\"M18.56 5.44l.94 2.06.94-2.06 2.06-.94-2.06-.94-.94-2.06-.94 2.06-2.06.94zm-11 1L8.5 8.5l.94-2.06 2.06-.94-2.06-.94L8.5 2.5l-.94 2.06-2.06.94zm10 10l.94 2.06.94-2.06 2.06-.94-2.06-.94-.94-2.06-.94 2.06-2.06.94z\"/><path d=\"M17.41 7.96l-1.37-1.37c-.4-.4-.92-.59-1.43-.59-.52 0-1.04.2-1.43.59L10.3 9.45l-7.72 7.72c-.78.78-.78 2.05 0 2.83L4 21.41c.39.39.9.59 1.41.59.51 0 1.02-.2 1.41-.59l7.78-7.78 2.81-2.81c.8-.78.8-2.07 0-2.86zM5.41 20L4 18.59l7.72-7.72 1.47 1.35L5.41 20z\"/>\n",
              "  </svg>\n",
              "      </button>\n",
              "      \n",
              "  <style>\n",
              "    .colab-df-container {\n",
              "      display:flex;\n",
              "      flex-wrap:wrap;\n",
              "      gap: 12px;\n",
              "    }\n",
              "\n",
              "    .colab-df-convert {\n",
              "      background-color: #E8F0FE;\n",
              "      border: none;\n",
              "      border-radius: 50%;\n",
              "      cursor: pointer;\n",
              "      display: none;\n",
              "      fill: #1967D2;\n",
              "      height: 32px;\n",
              "      padding: 0 0 0 0;\n",
              "      width: 32px;\n",
              "    }\n",
              "\n",
              "    .colab-df-convert:hover {\n",
              "      background-color: #E2EBFA;\n",
              "      box-shadow: 0px 1px 2px rgba(60, 64, 67, 0.3), 0px 1px 3px 1px rgba(60, 64, 67, 0.15);\n",
              "      fill: #174EA6;\n",
              "    }\n",
              "\n",
              "    [theme=dark] .colab-df-convert {\n",
              "      background-color: #3B4455;\n",
              "      fill: #D2E3FC;\n",
              "    }\n",
              "\n",
              "    [theme=dark] .colab-df-convert:hover {\n",
              "      background-color: #434B5C;\n",
              "      box-shadow: 0px 1px 3px 1px rgba(0, 0, 0, 0.15);\n",
              "      filter: drop-shadow(0px 1px 2px rgba(0, 0, 0, 0.3));\n",
              "      fill: #FFFFFF;\n",
              "    }\n",
              "  </style>\n",
              "\n",
              "      <script>\n",
              "        const buttonEl =\n",
              "          document.querySelector('#df-24c16d19-929a-483f-9326-4df9cd32296c button.colab-df-convert');\n",
              "        buttonEl.style.display =\n",
              "          google.colab.kernel.accessAllowed ? 'block' : 'none';\n",
              "\n",
              "        async function convertToInteractive(key) {\n",
              "          const element = document.querySelector('#df-24c16d19-929a-483f-9326-4df9cd32296c');\n",
              "          const dataTable =\n",
              "            await google.colab.kernel.invokeFunction('convertToInteractive',\n",
              "                                                     [key], {});\n",
              "          if (!dataTable) return;\n",
              "\n",
              "          const docLinkHtml = 'Like what you see? Visit the ' +\n",
              "            '<a target=\"_blank\" href=https://colab.research.google.com/notebooks/data_table.ipynb>data table notebook</a>'\n",
              "            + ' to learn more about interactive tables.';\n",
              "          element.innerHTML = '';\n",
              "          dataTable['output_type'] = 'display_data';\n",
              "          await google.colab.output.renderOutput(dataTable, element);\n",
              "          const docLink = document.createElement('div');\n",
              "          docLink.innerHTML = docLinkHtml;\n",
              "          element.appendChild(docLink);\n",
              "        }\n",
              "      </script>\n",
              "    </div>\n",
              "  </div>\n",
              "  "
            ]
          },
          "metadata": {},
          "execution_count": 3
        }
      ]
    },
    {
      "cell_type": "code",
      "source": [
        "train_data.info()"
      ],
      "metadata": {
        "colab": {
          "base_uri": "https://localhost:8080/"
        },
        "id": "L6izlI_SGVmu",
        "outputId": "0572b995-3fd4-4cbc-9c86-eb48677abb38"
      },
      "execution_count": 4,
      "outputs": [
        {
          "output_type": "stream",
          "name": "stdout",
          "text": [
            "<class 'pandas.core.frame.DataFrame'>\n",
            "RangeIndex: 6525 entries, 0 to 6524\n",
            "Data columns (total 3 columns):\n",
            " #   Column     Non-Null Count  Dtype \n",
            "---  ------     --------------  ----- \n",
            " 0   TweetId    6525 non-null   int64 \n",
            " 1   Label      6525 non-null   object\n",
            " 2   TweetText  6525 non-null   object\n",
            "dtypes: int64(1), object(2)\n",
            "memory usage: 153.1+ KB\n"
          ]
        }
      ]
    },
    {
      "cell_type": "code",
      "source": [
        "train_data['TweetText'].loc[451]"
      ],
      "metadata": {
        "colab": {
          "base_uri": "https://localhost:8080/",
          "height": 53
        },
        "id": "Bh7RqA7qQKzx",
        "outputId": "e2938d69-ff27-49a0-a669-4bfcf5394cbd"
      },
      "execution_count": 5,
      "outputs": [
        {
          "output_type": "execute_result",
          "data": {
            "text/plain": [
              "'\\'EXCLUSIVE: Allan Border on the 1986 tied Test - \"I think the rivalry between India and Australia was born that day.\" http://t.co/nxTCmeDNvc\\''"
            ],
            "application/vnd.google.colaboratory.intrinsic+json": {
              "type": "string"
            }
          },
          "metadata": {},
          "execution_count": 5
        }
      ]
    },
    {
      "cell_type": "code",
      "source": [
        "corpus = []\n",
        "for i in range(0, len(train_data)):\n",
        "    review = re.sub('[^a-zA-Z]', ' ', train_data['TweetText'][i])\n",
        "    review = review.lower()\n",
        "    review = review.split()\n",
        "    \n",
        "    review = [ps.stem(word) for word in review if not word in stopwords.words('english')]\n",
        "    review = ' '.join(review)\n",
        "    corpus.append(review)"
      ],
      "metadata": {
        "id": "kdVADDOOQTr4"
      },
      "execution_count": 6,
      "outputs": []
    },
    {
      "cell_type": "code",
      "source": [
        "#We need to transform the labels from object to uints so we can pass them to our models \n",
        "# Politcs = 0\n",
        "# Sports = 1\n",
        "y_train = train_data[\"Label\"].apply(lambda x:1 if x==\"Sports\" else 0)\n",
        "y_train.head()"
      ],
      "metadata": {
        "colab": {
          "base_uri": "https://localhost:8080/"
        },
        "id": "Hdaego-jGWne",
        "outputId": "ee14a9ca-cb16-4e22-e26e-27530e19e3a2"
      },
      "execution_count": 7,
      "outputs": [
        {
          "output_type": "execute_result",
          "data": {
            "text/plain": [
              "0    0\n",
              "1    0\n",
              "2    1\n",
              "3    1\n",
              "4    1\n",
              "Name: Label, dtype: int64"
            ]
          },
          "metadata": {},
          "execution_count": 7
        }
      ]
    },
    {
      "cell_type": "code",
      "source": [
        "X = corpus\n",
        "y = y_train\n",
        "X_dev = test_data[\"TweetText\"]"
      ],
      "metadata": {
        "id": "KWYX0mOcH0Hj"
      },
      "execution_count": 8,
      "outputs": []
    },
    {
      "cell_type": "code",
      "source": [
        "X_train, X_test, y_train, y_test = train_test_split(X,\n",
        "                                                    y,\n",
        "                                                    test_size=0.2,\n",
        "                                                    random_state=42)"
      ],
      "metadata": {
        "id": "Cxjj3caCKCPX"
      },
      "execution_count": 9,
      "outputs": []
    },
    {
      "cell_type": "markdown",
      "source": [
        "## **B-Machine Learning**\n",
        "\n"
      ],
      "metadata": {
        "id": "YlkMzRnYKyvA"
      }
    },
    {
      "cell_type": "markdown",
      "source": [
        "### **1- SVM**"
      ],
      "metadata": {
        "id": "X4ckL4OJMe5h"
      }
    },
    {
      "cell_type": "code",
      "source": [
        "model_SVM = Pipeline([\n",
        "    (\"tfidf\", TfidfVectorizer()),\n",
        "    (\"SVM\", SVC())\n",
        "])\n",
        "t0 = time()\n",
        "model_SVM.fit(X_train,y_train)\n",
        "print(f\"\\nTraining time: {round(time()-t0, 3)}s\")\n",
        "\n",
        "t0 = time()\n",
        "score_train_SVM = model_SVM.score(X_train, y_train)\n",
        "print(f\"Prediction time (train): {round(time()-t0, 3)}s\")\n",
        "\n",
        "t0 = time()\n",
        "score_test_SVM = model_SVM.score(X_test, y_test)\n",
        "print(f\"Prediction time (test): {round(time()-t0, 3)}s\")\n",
        "\n",
        "print(\"\\nTrain set score:\", score_train_SVM)\n",
        "print(\"Test set score:\", score_test_SVM)"
      ],
      "metadata": {
        "colab": {
          "base_uri": "https://localhost:8080/"
        },
        "id": "Th2R2dsgSd4_",
        "outputId": "fc3d3b9e-2661-488f-9f3c-6bbc7fb06caf"
      },
      "execution_count": 10,
      "outputs": [
        {
          "output_type": "stream",
          "name": "stdout",
          "text": [
            "\n",
            "Training time: 4.191s\n",
            "Prediction time (train): 1.968s\n",
            "Prediction time (test): 0.536s\n",
            "\n",
            "Train set score: 1.0\n",
            "Test set score: 0.9578544061302682\n"
          ]
        }
      ]
    },
    {
      "cell_type": "markdown",
      "source": [
        "### **2-MultinomialNB**"
      ],
      "metadata": {
        "id": "2cFlTobXWNgl"
      }
    },
    {
      "cell_type": "code",
      "source": [
        "model_MNB = Pipeline([\n",
        "    (\"tfidf\", TfidfVectorizer()),\n",
        "    (\"MNB\", MultinomialNB())\n",
        "])\n",
        "t0 = time()\n",
        "model_MNB.fit(X_train,y_train)\n",
        "print(f\"\\nFitting time: {round(time()-t0, 3)}s\")\n",
        "\n",
        "t0 = time()\n",
        "score_train_MNB = model_MNB.score(X_train, y_train)\n",
        "print(f\"Prediction time (train): {round(time()-t0, 3)}s\")\n",
        "\n",
        "t0 = time()\n",
        "score_test_MNB = model_MNB.score(X_test, y_test)\n",
        "print(f\"Prediction time (test): {round(time()-t0, 3)}s\")\n",
        "\n",
        "print(\"\\nTrain set score:\", score_train_MNB)\n",
        "print(\"Test set score:\", score_test_MNB)"
      ],
      "metadata": {
        "colab": {
          "base_uri": "https://localhost:8080/"
        },
        "id": "IcDh1-RkVd1x",
        "outputId": "912ec37f-af49-4513-f037-81f35927bd2e"
      },
      "execution_count": 11,
      "outputs": [
        {
          "output_type": "stream",
          "name": "stdout",
          "text": [
            "\n",
            "Fitting time: 0.116s\n",
            "Prediction time (train): 0.078s\n",
            "Prediction time (test): 0.021s\n",
            "\n",
            "Train set score: 0.9879310344827587\n",
            "Test set score: 0.9647509578544061\n"
          ]
        }
      ]
    },
    {
      "cell_type": "markdown",
      "source": [
        "### **3- BernoulliNB**"
      ],
      "metadata": {
        "id": "1PyjlUp4We4m"
      }
    },
    {
      "cell_type": "code",
      "source": [
        "model_BNB = Pipeline([\n",
        "    (\"tfidf\", TfidfVectorizer()),\n",
        "    (\"BNB\", BernoulliNB())\n",
        "])\n",
        "t0 = time()\n",
        "model_BNB.fit(X_train,y_train)\n",
        "print(f\"\\nFitting time: {round(time()-t0, 3)}s\")\n",
        "\n",
        "t0 = time()\n",
        "score_train_BNB = model_BNB.score(X_train, y_train)\n",
        "print(f\"Prediction time (train): {round(time()-t0, 3)}s\")\n",
        "\n",
        "t0 = time()\n",
        "score_test_BNB = model_BNB.score(X_test, y_test)\n",
        "print(f\"Prediction time (test): {round(time()-t0, 3)}s\")\n",
        "\n",
        "print(\"\\nTrain set score:\", score_train_BNB)\n",
        "print(\"Test set score:\", score_test_BNB)"
      ],
      "metadata": {
        "colab": {
          "base_uri": "https://localhost:8080/"
        },
        "id": "OoZGr09uWbyz",
        "outputId": "cb324d4f-dd5c-48a9-b627-8bfd3153a6a1"
      },
      "execution_count": 12,
      "outputs": [
        {
          "output_type": "stream",
          "name": "stdout",
          "text": [
            "\n",
            "Fitting time: 0.115s\n",
            "Prediction time (train): 0.083s\n",
            "Prediction time (test): 0.022s\n",
            "\n",
            "Train set score: 0.9804597701149426\n",
            "Test set score: 0.960919540229885\n"
          ]
        }
      ]
    },
    {
      "cell_type": "markdown",
      "source": [
        "### **4- ComplementNB**"
      ],
      "metadata": {
        "id": "Ci3oCo1_WpaP"
      }
    },
    {
      "cell_type": "code",
      "source": [
        "model_CNB = Pipeline([\n",
        "    (\"tfidf\", TfidfVectorizer()),\n",
        "    (\"BNB\", ComplementNB())\n",
        "])\n",
        "t0 = time()\n",
        "model_CNB.fit(X_train,y_train)\n",
        "print(f\"\\nFitting time: {round(time()-t0, 3)}s\")\n",
        "\n",
        "t0 = time()\n",
        "score_train_CNB = model_CNB.score(X_train, y_train)\n",
        "print(f\"Prediction time (train): {round(time()-t0, 3)}s\")\n",
        "\n",
        "t0 = time()\n",
        "score_test_CNB = model_CNB.score(X_test, y_test)\n",
        "print(f\"Prediction time (test): {round(time()-t0, 3)}s\")\n",
        "\n",
        "print(\"\\nTrain set score:\", score_train_CNB)\n",
        "print(\"Test set score:\", score_test_CNB)"
      ],
      "metadata": {
        "colab": {
          "base_uri": "https://localhost:8080/"
        },
        "id": "sF5D3OEyWjPK",
        "outputId": "0dc1989f-a215-486e-f290-310e863b754f"
      },
      "execution_count": 13,
      "outputs": [
        {
          "output_type": "stream",
          "name": "stdout",
          "text": [
            "\n",
            "Fitting time: 0.125s\n",
            "Prediction time (train): 0.088s\n",
            "Prediction time (test): 0.023s\n",
            "\n",
            "Train set score: 0.9873563218390805\n",
            "Test set score: 0.9647509578544061\n"
          ]
        }
      ]
    },
    {
      "cell_type": "markdown",
      "source": [
        "### **5- GaussianNB**"
      ],
      "metadata": {
        "id": "K4ynaeyoY33S"
      }
    },
    {
      "cell_type": "code",
      "source": [
        "vectorizer = TfidfVectorizer(sublinear_tf=True, max_df=0.5)\n",
        "features_train = vectorizer.fit_transform(X_train)\n",
        "features_test = vectorizer.transform(X_test)"
      ],
      "metadata": {
        "id": "F_LdtCTCWuM3"
      },
      "execution_count": 14,
      "outputs": []
    },
    {
      "cell_type": "code",
      "source": [
        "selector = SelectPercentile(f_classif, percentile=10)\n",
        "selector.fit(features_train, y_train)\n",
        "features_train = selector.transform(features_train).toarray()\n",
        "features_test = selector.transform(features_test).toarray()"
      ],
      "metadata": {
        "id": "_2j9YPivZDak"
      },
      "execution_count": 15,
      "outputs": []
    },
    {
      "cell_type": "code",
      "source": [
        "model_GNB = GaussianNB()\n",
        "t0 = time()\n",
        "model_GNB.fit(features_train,y_train)\n",
        "print(f\"\\nFitting time: {round(time()-t0, 3)}s\")\n",
        "\n",
        "t0 = time()\n",
        "score_train_GNB = model_GNB.score(features_train, y_train)\n",
        "print(f\"Prediction time (train): {round(time()-t0, 3)}s\")\n",
        "\n",
        "t0 = time()\n",
        "score_test_GNB = model_GNB.score(features_test, y_test)\n",
        "print(f\"Prediction time (test): {round(time()-t0, 3)}s\")\n",
        "\n",
        "print(\"\\nTrain set score:\", score_train_GNB)\n",
        "print(\"Test set score:\", score_test_GNB)"
      ],
      "metadata": {
        "colab": {
          "base_uri": "https://localhost:8080/"
        },
        "id": "tz6Xw1WGZFno",
        "outputId": "cd58ec10-f8c2-49c2-b619-64a28f9f9b79"
      },
      "execution_count": 16,
      "outputs": [
        {
          "output_type": "stream",
          "name": "stdout",
          "text": [
            "\n",
            "Fitting time: 0.059s\n",
            "Prediction time (train): 0.068s\n",
            "Prediction time (test): 0.011s\n",
            "\n",
            "Train set score: 0.9534482758620689\n",
            "Test set score: 0.9348659003831418\n"
          ]
        }
      ]
    },
    {
      "cell_type": "markdown",
      "source": [
        "### **6- Logistic Regression**"
      ],
      "metadata": {
        "id": "n4fOpFflZKp6"
      }
    },
    {
      "cell_type": "code",
      "source": [
        "model_LR = LogisticRegression()\n",
        "t0 = time()\n",
        "model_LR.fit(features_train, y_train)\n",
        "print(f\"\\nTraining time: {round(time()-t0, 3)}s\")\n",
        "\n",
        "t0 = time()\n",
        "score_train_LR = model_LR.score(features_train, y_train)\n",
        "print(f\"Prediction time (train): {round(time()-t0, 3)}s\")\n",
        "\n",
        "t0 = time()\n",
        "score_test_LR = model_LR.score(features_test, y_test)\n",
        "print(f\"Prediction time (test): {round(time()-t0, 3)}s\")\n",
        "\n",
        "print(\"\\nTrain set score:\", score_train_LR)\n",
        "print(\"Test set score:\", score_test_LR)"
      ],
      "metadata": {
        "colab": {
          "base_uri": "https://localhost:8080/"
        },
        "id": "yh_QG0sqZKNJ",
        "outputId": "b9874f15-64da-4ee4-8804-2fb73587d0e8"
      },
      "execution_count": 17,
      "outputs": [
        {
          "output_type": "stream",
          "name": "stdout",
          "text": [
            "\n",
            "Training time: 0.402s\n",
            "Prediction time (train): 0.011s\n",
            "Prediction time (test): 0.006s\n",
            "\n",
            "Train set score: 0.9475095785440613\n",
            "Test set score: 0.9425287356321839\n"
          ]
        }
      ]
    },
    {
      "cell_type": "markdown",
      "source": [
        "## **C-Deep Learning**"
      ],
      "metadata": {
        "id": "KI3KOtgWZY1H"
      }
    },
    {
      "cell_type": "markdown",
      "source": [
        "### **Preparing our deep learning models**\n",
        "\n",
        "1.   Text vectorizer\n",
        "2.   Embedding\n",
        "\n"
      ],
      "metadata": {
        "id": "kt3HAIU0ZjCQ"
      }
    },
    {
      "cell_type": "code",
      "source": [
        "# Finding the best sequence lenght Using histogram and percentile\n",
        "sent_len = [len(sentence.split()) for sentence in X]\n",
        "plt.hist(sent_len, bins=20);"
      ],
      "metadata": {
        "colab": {
          "base_uri": "https://localhost:8080/",
          "height": 430
        },
        "id": "7V1TmA7NbeCX",
        "outputId": "18afa08d-af8b-4bf3-9b3b-4827379ebd4b"
      },
      "execution_count": 18,
      "outputs": [
        {
          "output_type": "display_data",
          "data": {
            "text/plain": [
              "<Figure size 640x480 with 1 Axes>"
            ],
            "image/png": "[encoded data removed]"
          },
          "metadata": {}
        }
      ]
    },
    {
      "cell_type": "code",
      "source": [
        "len_sen = int(np.percentile(sent_len, 95));\n",
        "len_sen"
      ],
      "metadata": {
        "colab": {
          "base_uri": "https://localhost:8080/"
        },
        "id": "YOfHTT9Obx-y",
        "outputId": "e45b7a39-c265-46d3-a9c0-585cc6a51d38"
      },
      "execution_count": 19,
      "outputs": [
        {
          "output_type": "execute_result",
          "data": {
            "text/plain": [
              "18"
            ]
          },
          "metadata": {},
          "execution_count": 19
        }
      ]
    },
    {
      "cell_type": "code",
      "source": [
        "max_vocabulary = 10000 \n",
        "text_vectorizer = TextVectorization(max_tokens=max_vocabulary,\n",
        "                                    output_sequence_length=len_sen\n",
        "                                    )\n",
        "\n",
        "text_vectorizer.adapt(X)"
      ],
      "metadata": {
        "id": "L9kIdTDnb0uE"
      },
      "execution_count": 20,
      "outputs": []
    },
    {
      "cell_type": "code",
      "source": [
        "text_vectorizer.get_vocabulary()[:5]"
      ],
      "metadata": {
        "colab": {
          "base_uri": "https://localhost:8080/"
        },
        "id": "I-aJoeHHb2WH",
        "outputId": "4324c7ba-6b09-4d2e-d4e5-bb2c3ef9268b"
      },
      "execution_count": 21,
      "outputs": [
        {
          "output_type": "execute_result",
          "data": {
            "text/plain": [
              "['', '[UNK]', 'co', 'http', 'rt']"
            ]
          },
          "metadata": {},
          "execution_count": 21
        }
      ]
    },
    {
      "cell_type": "code",
      "source": [
        "embedding = Embedding(input_dim=max_vocabulary,\n",
        "                     output_dim=128,\n",
        "                     mask_zero=True,\n",
        "                     input_length= len_sen)"
      ],
      "metadata": {
        "id": "J7PIVWAcb44o"
      },
      "execution_count": 22,
      "outputs": []
    },
    {
      "cell_type": "markdown",
      "source": [
        "### **Making our data Fatser**\n",
        "1.   tensor slices\n",
        "2.   prefetch\n"
      ],
      "metadata": {
        "id": "5Rh0oQb1b_ua"
      }
    },
    {
      "cell_type": "code",
      "source": [
        "train_dataset = tf.data.Dataset.from_tensor_slices((X_train, y_train))\n",
        "test_dataset = tf.data.Dataset.from_tensor_slices((X_test, y_test))\n"
      ],
      "metadata": {
        "id": "YIOn_Fpeb6KQ"
      },
      "execution_count": 23,
      "outputs": []
    },
    {
      "cell_type": "code",
      "source": [
        "train_dataset = train_dataset.batch(32).prefetch(tf.data.AUTOTUNE)\n",
        "test_dataset = test_dataset.batch(32).prefetch(tf.data.AUTOTUNE)"
      ],
      "metadata": {
        "id": "PwwVWEq2cC0q"
      },
      "execution_count": 24,
      "outputs": []
    },
    {
      "cell_type": "markdown",
      "source": [
        "### **1- Bidirectional Lstm**"
      ],
      "metadata": {
        "id": "nmEDoGnocNFf"
      }
    },
    {
      "cell_type": "code",
      "source": [
        "inputs = layers.Input(shape=(1,), dtype = tf.string)\n",
        "x = text_vectorizer(inputs)\n",
        "x = embedding(x)\n",
        "x = layers.Bidirectional(layers.LSTM(528))(x)\n",
        "outputs = layers.Dense(1, activation=\"sigmoid\")(x)\n",
        "\n",
        "model_1 = tf.keras.Model(inputs, outputs, name=\"Lstm_model\")\n",
        "\n",
        "model_1.compile(loss=\"binary_crossentropy\",\n",
        "                optimizer=\"adam\",\n",
        "                metrics=['accuracy'])\n",
        "model_1.summary()"
      ],
      "metadata": {
        "colab": {
          "base_uri": "https://localhost:8080/"
        },
        "id": "Zz6Kh27WcMdQ",
        "outputId": "abdcfd9c-eb1f-4631-bc8a-164ac1706414"
      },
      "execution_count": 25,
      "outputs": [
        {
          "output_type": "stream",
          "name": "stdout",
          "text": [
            "Model: \"Lstm_model\"\n",
            "_________________________________________________________________\n",
            " Layer (type)                Output Shape              Param #   \n",
            "=================================================================\n",
            " input_1 (InputLayer)        [(None, 1)]               0         \n",
            "                                                                 \n",
            " text_vectorization (TextVec  (None, 18)               0         \n",
            " torization)                                                     \n",
            "                                                                 \n",
            " embedding (Embedding)       (None, 18, 128)           1280000   \n",
            "                                                                 \n",
            " bidirectional (Bidirectiona  (None, 1056)             2775168   \n",
            " l)                                                              \n",
            "                                                                 \n",
            " dense (Dense)               (None, 1)                 1057      \n",
            "                                                                 \n",
            "=================================================================\n",
            "Total params: 4,056,225\n",
            "Trainable params: 4,056,225\n",
            "Non-trainable params: 0\n",
            "_________________________________________________________________\n"
          ]
        }
      ]
    },
    {
      "cell_type": "code",
      "source": [
        "lstm_history = model_1.fit(train_dataset,\n",
        "                           epochs=5)"
      ],
      "metadata": {
        "colab": {
          "base_uri": "https://localhost:8080/"
        },
        "id": "-c3FcTJxcKTO",
        "outputId": "fd5402f4-5d78-492f-bc23-8cb4d22de864"
      },
      "execution_count": 26,
      "outputs": [
        {
          "output_type": "stream",
          "name": "stdout",
          "text": [
            "Epoch 1/5\n",
            "164/164 [==============================] - 58s 317ms/step - loss: 0.2692 - accuracy: 0.8937\n",
            "Epoch 2/5\n",
            "164/164 [==============================] - 41s 249ms/step - loss: 0.0507 - accuracy: 0.9858\n",
            "Epoch 3/5\n",
            "164/164 [==============================] - 43s 260ms/step - loss: 0.0336 - accuracy: 0.9941\n",
            "Epoch 4/5\n",
            "164/164 [==============================] - 42s 256ms/step - loss: 0.0240 - accuracy: 0.9952\n",
            "Epoch 5/5\n",
            "164/164 [==============================] - 42s 256ms/step - loss: 0.0274 - accuracy: 0.9946\n"
          ]
        }
      ]
    },
    {
      "cell_type": "code",
      "source": [
        "_, train_score_BILSTM = model_1.evaluate(train_dataset)\n",
        "_, test_score_BILSTM = model_1.evaluate(test_dataset)\n",
        "\n",
        "print(train_score_BILSTM)\n",
        "print(test_score_BILSTM)"
      ],
      "metadata": {
        "colab": {
          "base_uri": "https://localhost:8080/"
        },
        "id": "UanT6ddUdiVq",
        "outputId": "eaca90e4-36ec-4661-d849-0c00d5865557"
      },
      "execution_count": 27,
      "outputs": [
        {
          "output_type": "stream",
          "name": "stdout",
          "text": [
            "164/164 [==============================] - 14s 73ms/step - loss: 0.0100 - accuracy: 0.9977\n",
            "41/41 [==============================] - 3s 68ms/step - loss: 0.1180 - accuracy: 0.9548\n",
            "0.9977011680603027\n",
            "0.9547892808914185\n"
          ]
        }
      ]
    },
    {
      "cell_type": "markdown",
      "source": [
        "### **2- Pre_trained model from tensor_hub**"
      ],
      "metadata": {
        "id": "gMF3mWk0eAwm"
      }
    },
    {
      "cell_type": "code",
      "source": [
        "hub_layer = hub.KerasLayer(\"https://tfhub.dev/google/nnlm-en-dim50/2\", \n",
        "                           input_shape=[], \n",
        "                           dtype=tf.string, \n",
        "                           trainable=True)"
      ],
      "metadata": {
        "id": "JZ-733YoeB4q"
      },
      "execution_count": 28,
      "outputs": []
    },
    {
      "cell_type": "code",
      "source": [
        "model_pre = tf.keras.Sequential()\n",
        "model_pre.add(hub_layer)\n",
        "model_pre.add(tf.keras.layers.Dense(1024, activation='relu'))\n",
        "model_pre.add(tf.keras.layers.Dense(1, activation=\"sigmoid\"))\n",
        "\n",
        "model_pre.compile(loss=\"binary_crossentropy\",\n",
        "              optimizer=\"adam\",\n",
        "              metrics=[\"accuracy\"])\n",
        "\n",
        "model_pre.summary()"
      ],
      "metadata": {
        "colab": {
          "base_uri": "https://localhost:8080/"
        },
        "id": "R1vfW9LV9cks",
        "outputId": "7a12c1d6-30a6-4751-b91d-f9e44fa16a3d"
      },
      "execution_count": 29,
      "outputs": [
        {
          "output_type": "stream",
          "name": "stdout",
          "text": [
            "Model: \"sequential\"\n",
            "_________________________________________________________________\n",
            " Layer (type)                Output Shape              Param #   \n",
            "=================================================================\n",
            " keras_layer (KerasLayer)    (None, 50)                48190600  \n",
            "                                                                 \n",
            " dense_1 (Dense)             (None, 1024)              52224     \n",
            "                                                                 \n",
            " dense_2 (Dense)             (None, 1)                 1025      \n",
            "                                                                 \n",
            "=================================================================\n",
            "Total params: 48,243,849\n",
            "Trainable params: 48,243,849\n",
            "Non-trainable params: 0\n",
            "_________________________________________________________________\n"
          ]
        }
      ]
    },
    {
      "cell_type": "code",
      "source": [
        "model_Pre_history = model_pre.fit(train_dataset,\n",
        "                              epochs=10)"
      ],
      "metadata": {
        "colab": {
          "base_uri": "https://localhost:8080/"
        },
        "id": "y9Ch70Ie9eCl",
        "outputId": "0e0fe9c3-a642-4ed7-9e51-117f811e64e0"
      },
      "execution_count": 30,
      "outputs": [
        {
          "output_type": "stream",
          "name": "stdout",
          "text": [
            "Epoch 1/10\n",
            "164/164 [==============================] - 107s 648ms/step - loss: 0.2910 - accuracy: 0.8791\n",
            "Epoch 2/10\n",
            "164/164 [==============================] - 105s 640ms/step - loss: 0.0839 - accuracy: 0.9676\n",
            "Epoch 3/10\n",
            "164/164 [==============================] - 105s 638ms/step - loss: 0.0258 - accuracy: 0.9923\n",
            "Epoch 4/10\n",
            "164/164 [==============================] - 102s 624ms/step - loss: 0.0072 - accuracy: 0.9981\n",
            "Epoch 5/10\n",
            "164/164 [==============================] - 119s 729ms/step - loss: 0.0021 - accuracy: 0.9996\n",
            "Epoch 6/10\n",
            "164/164 [==============================] - 113s 687ms/step - loss: 8.9054e-04 - accuracy: 1.0000\n",
            "Epoch 7/10\n",
            "164/164 [==============================] - 114s 695ms/step - loss: 4.9804e-04 - accuracy: 1.0000\n",
            "Epoch 8/10\n",
            "164/164 [==============================] - 114s 696ms/step - loss: 3.2045e-04 - accuracy: 1.0000\n",
            "Epoch 9/10\n",
            "164/164 [==============================] - 125s 763ms/step - loss: 2.2326e-04 - accuracy: 1.0000\n",
            "Epoch 10/10\n",
            "164/164 [==============================] - 119s 724ms/step - loss: 1.6376e-04 - accuracy: 1.0000\n"
          ]
        }
      ]
    },
    {
      "cell_type": "code",
      "source": [
        "_, test_score_pre = model_pre.evaluate(test_dataset)"
      ],
      "metadata": {
        "colab": {
          "base_uri": "https://localhost:8080/"
        },
        "id": "MA01CYBzDpmj",
        "outputId": "a1b7148d-0bc3-4ffa-a95b-f08d14ee4703"
      },
      "execution_count": 31,
      "outputs": [
        {
          "output_type": "stream",
          "name": "stdout",
          "text": [
            "41/41 [==============================] - 5s 108ms/step - loss: 0.2392 - accuracy: 0.9433\n"
          ]
        }
      ]
    },
    {
      "cell_type": "markdown",
      "source": [
        "## **D- Results**"
      ],
      "metadata": {
        "id": "PAyFRmZ8DyrH"
      }
    },
    {
      "cell_type": "code",
      "source": [
        "results = {\"models\":[\"SVM\",\"MultinomialNB\",\"BernoulliNB\",\"ComplementNB\",\"GaussianNB\",\"LogisticR\",\"BI_LSTM\",\"Pre_trained\"],\n",
        "           \"Score\":[score_test_SVM*100,score_test_MNB*100,score_test_BNB*100,score_test_CNB*100,score_test_GNB*100,score_test_LR*100,test_score_BILSTM*100,test_score_pre*100]}\n",
        "results = pd.DataFrame(results)\n",
        "results"
      ],
      "metadata": {
        "colab": {
          "base_uri": "https://localhost:8080/",
          "height": 300
        },
        "id": "RO7VjlRLDx5t",
        "outputId": "ac5b0f12-cfc2-4148-a850-f25075a62535"
      },
      "execution_count": 33,
      "outputs": [
        {
          "output_type": "execute_result",
          "data": {
            "text/plain": [
              "          models      Score\n",
              "0            SVM  95.785441\n",
              "1  MultinomialNB  96.475096\n",
              "2    BernoulliNB  96.091954\n",
              "3   ComplementNB  96.475096\n",
              "4     GaussianNB  93.486590\n",
              "5      LogisticR  94.252874\n",
              "6        BI_LSTM  95.478928\n",
              "7    Pre_trained  94.329500"
            ],
            "text/html": [
              "\n",
              "  <div id=\"df-ec3f39b3-0fc9-43ff-b164-0ea4d6d9fe19\">\n",
              "    <div class=\"colab-df-container\">\n",
              "      <div>\n",
              "<style scoped>\n",
              "    .dataframe tbody tr th:only-of-type {\n",
              "        vertical-align: middle;\n",
              "    }\n",
              "\n",
              "    .dataframe tbody tr th {\n",
              "        vertical-align: top;\n",
              "    }\n",
              "\n",
              "    .dataframe thead th {\n",
              "        text-align: right;\n",
              "    }\n",
              "</style>\n",
              "<table border=\"1\" class=\"dataframe\">\n",
              "  <thead>\n",
              "    <tr style=\"text-align: right;\">\n",
              "      <th></th>\n",
              "      <th>models</th>\n",
              "      <th>Score</th>\n",
              "    </tr>\n",
              "  </thead>\n",
              "  <tbody>\n",
              "    <tr>\n",
              "      <th>0</th>\n",
              "      <td>SVM</td>\n",
              "      <td>95.785441</td>\n",
              "    </tr>\n",
              "    <tr>\n",
              "      <th>1</th>\n",
              "      <td>MultinomialNB</td>\n",
              "      <td>96.475096</td>\n",
              "    </tr>\n",
              "    <tr>\n",
              "      <th>2</th>\n",
              "      <td>BernoulliNB</td>\n",
              "      <td>96.091954</td>\n",
              "    </tr>\n",
              "    <tr>\n",
              "      <th>3</th>\n",
              "      <td>ComplementNB</td>\n",
              "      <td>96.475096</td>\n",
              "    </tr>\n",
              "    <tr>\n",
              "      <th>4</th>\n",
              "      <td>GaussianNB</td>\n",
              "      <td>93.486590</td>\n",
              "    </tr>\n",
              "    <tr>\n",
              "      <th>5</th>\n",
              "      <td>LogisticR</td>\n",
              "      <td>94.252874</td>\n",
              "    </tr>\n",
              "    <tr>\n",
              "      <th>6</th>\n",
              "      <td>BI_LSTM</td>\n",
              "      <td>95.478928</td>\n",
              "    </tr>\n",
              "    <tr>\n",
              "      <th>7</th>\n",
              "      <td>Pre_trained</td>\n",
              "      <td>94.329500</td>\n",
              "    </tr>\n",
              "  </tbody>\n",
              "</table>\n",
              "</div>\n",
              "      <button class=\"colab-df-convert\" onclick=\"convertToInteractive('df-ec3f39b3-0fc9-43ff-b164-0ea4d6d9fe19')\"\n",
              "              title=\"Convert this dataframe to an interactive table.\"\n",
              "              style=\"display:none;\">\n",
              "        \n",
              "  <svg xmlns=\"http://www.w3.org/2000/svg\" height=\"24px\"viewBox=\"0 0 24 24\"\n",
              "       width=\"24px\">\n",
              "    <path d=\"M0 0h24v24H0V0z\" fill=\"none\"/>\n",
              "    <path d=\"M18.56 5.44l.94 2.06.94-2.06 2.06-.94-2.06-.94-.94-2.06-.94 2.06-2.06.94zm-11 1L8.5 8.5l.94-2.06 2.06-.94-2.06-.94L8.5 2.5l-.94 2.06-2.06.94zm10 10l.94 2.06.94-2.06 2.06-.94-2.06-.94-.94-2.06-.94 2.06-2.06.94z\"/><path d=\"M17.41 7.96l-1.37-1.37c-.4-.4-.92-.59-1.43-.59-.52 0-1.04.2-1.43.59L10.3 9.45l-7.72 7.72c-.78.78-.78 2.05 0 2.83L4 21.41c.39.39.9.59 1.41.59.51 0 1.02-.2 1.41-.59l7.78-7.78 2.81-2.81c.8-.78.8-2.07 0-2.86zM5.41 20L4 18.59l7.72-7.72 1.47 1.35L5.41 20z\"/>\n",
              "  </svg>\n",
              "      </button>\n",
              "      \n",
              "  <style>\n",
              "    .colab-df-container {\n",
              "      display:flex;\n",
              "      flex-wrap:wrap;\n",
              "      gap: 12px;\n",
              "    }\n",
              "\n",
              "    .colab-df-convert {\n",
              "      background-color: #E8F0FE;\n",
              "      border: none;\n",
              "      border-radius: 50%;\n",
              "      cursor: pointer;\n",
              "      display: none;\n",
              "      fill: #1967D2;\n",
              "      height: 32px;\n",
              "      padding: 0 0 0 0;\n",
              "      width: 32px;\n",
              "    }\n",
              "\n",
              "    .colab-df-convert:hover {\n",
              "      background-color: #E2EBFA;\n",
              "      box-shadow: 0px 1px 2px rgba(60, 64, 67, 0.3), 0px 1px 3px 1px rgba(60, 64, 67, 0.15);\n",
              "      fill: #174EA6;\n",
              "    }\n",
              "\n",
              "    [theme=dark] .colab-df-convert {\n",
              "      background-color: #3B4455;\n",
              "      fill: #D2E3FC;\n",
              "    }\n",
              "\n",
              "    [theme=dark] .colab-df-convert:hover {\n",
              "      background-color: #434B5C;\n",
              "      box-shadow: 0px 1px 3px 1px rgba(0, 0, 0, 0.15);\n",
              "      filter: drop-shadow(0px 1px 2px rgba(0, 0, 0, 0.3));\n",
              "      fill: #FFFFFF;\n",
              "    }\n",
              "  </style>\n",
              "\n",
              "      <script>\n",
              "        const buttonEl =\n",
              "          document.querySelector('#df-ec3f39b3-0fc9-43ff-b164-0ea4d6d9fe19 button.colab-df-convert');\n",
              "        buttonEl.style.display =\n",
              "          google.colab.kernel.accessAllowed ? 'block' : 'none';\n",
              "\n",
              "        async function convertToInteractive(key) {\n",
              "          const element = document.querySelector('#df-ec3f39b3-0fc9-43ff-b164-0ea4d6d9fe19');\n",
              "          const dataTable =\n",
              "            await google.colab.kernel.invokeFunction('convertToInteractive',\n",
              "                                                     [key], {});\n",
              "          if (!dataTable) return;\n",
              "\n",
              "          const docLinkHtml = 'Like what you see? Visit the ' +\n",
              "            '<a target=\"_blank\" href=https://colab.research.google.com/notebooks/data_table.ipynb>data table notebook</a>'\n",
              "            + ' to learn more about interactive tables.';\n",
              "          element.innerHTML = '';\n",
              "          dataTable['output_type'] = 'display_data';\n",
              "          await google.colab.output.renderOutput(dataTable, element);\n",
              "          const docLink = document.createElement('div');\n",
              "          docLink.innerHTML = docLinkHtml;\n",
              "          element.appendChild(docLink);\n",
              "        }\n",
              "      </script>\n",
              "    </div>\n",
              "  </div>\n",
              "  "
            ]
          },
          "metadata": {},
          "execution_count": 33
        }
      ]
    },
    {
      "cell_type": "code",
      "source": [
        "import seaborn as sns\n",
        "plt.xticks(rotation = 90) \n",
        "ax = sns.barplot(x= 'models', y= 'Score', data = results);\n",
        "ax.axes.set_ylim(90,98);"
      ],
      "metadata": {
        "colab": {
          "base_uri": "https://localhost:8080/",
          "height": 550
        },
        "id": "yronRUy9EA24",
        "outputId": "d8012cd0-267f-4a41-bab0-51ea47619bb5"
      },
      "execution_count": 35,
      "outputs": [
        {
          "output_type": "display_data",
          "data": {
            "text/plain": [
              "<Figure size 640x480 with 1 Axes>"
            ],
            "image/png": "[encoded data removed]"
          },
          "metadata": {}
        }
      ]
    },
    {
      "cell_type": "markdown",
      "source": [
        "## **E- Let's improve our best models**"
      ],
      "metadata": {
        "id": "AmcjFChhEPCr"
      }
    },
    {
      "cell_type": "markdown",
      "source": [
        "### **1- GridSearchCV**"
      ],
      "metadata": {
        "id": "QTq8xYl2ESQ4"
      }
    },
    {
      "cell_type": "markdown",
      "source": [
        "#### **a- BernouliNB**"
      ],
      "metadata": {
        "id": "IIXEdZAGEUyh"
      }
    },
    {
      "cell_type": "code",
      "source": [
        "param_grid_nb = {\n",
        "    'alpha': [0.1,0.01,0.5],\n",
        "    'binarize':[0,0.001,1],\n",
        "    'fit_prior':[False, True],\n",
        "}\n",
        "\n",
        "tf = TfidfVectorizer(max_features=10000)\n",
        "sms = tf.fit_transform(X_train).toarray()\n",
        "nbModel_grid = GridSearchCV(estimator=BernoulliNB(), param_grid=param_grid_nb, verbose=1, cv=10, n_jobs=-1)\n",
        "nbModel_grid.fit(sms, y_train)\n",
        "print(nbModel_grid.best_estimator_)"
      ],
      "metadata": {
        "colab": {
          "base_uri": "https://localhost:8080/"
        },
        "id": "N1tBBc3JEOWw",
        "outputId": "0bcc84e1-86b1-4df8-ce4c-3c6a4e74970d"
      },
      "execution_count": 36,
      "outputs": [
        {
          "output_type": "stream",
          "name": "stdout",
          "text": [
            "Fitting 10 folds for each of 18 candidates, totalling 180 fits\n",
            "BernoulliNB(alpha=0.1, binarize=0)\n"
          ]
        }
      ]
    },
    {
      "cell_type": "code",
      "source": [
        "model_BNB = Pipeline([\n",
        "    (\"tfidf\", TfidfVectorizer(sublinear_tf=True)),\n",
        "    (\"BNB\", BernoulliNB(alpha=0.1, fit_prior=False, binarize=0))\n",
        "])\n",
        "\n",
        "model_BNB.fit(X_train,y_train)\n",
        "BNB_score = model_BNB.score(X_test,y_test)\n",
        "BNB_score"
      ],
      "metadata": {
        "colab": {
          "base_uri": "https://localhost:8080/"
        },
        "id": "SO9nmnR9GClj",
        "outputId": "5644b461-5c69-4803-e236-d77458f7ad03"
      },
      "execution_count": 37,
      "outputs": [
        {
          "output_type": "execute_result",
          "data": {
            "text/plain": [
              "0.9670498084291188"
            ]
          },
          "metadata": {},
          "execution_count": 37
        }
      ]
    },
    {
      "cell_type": "markdown",
      "source": [
        "#### **b- ComplementNB**"
      ],
      "metadata": {
        "id": "ePRIYNzAGQek"
      }
    },
    {
      "cell_type": "code",
      "source": [
        "param_grid_nb = {\n",
        "    'alpha': [0.1,0.001,0.01,0.05],\n",
        "    'norm':[False,True],\n",
        "    'fit_prior':[False, True],\n",
        "}\n",
        "\n",
        "\n",
        "nbModel_grid = GridSearchCV(estimator=ComplementNB(), param_grid=param_grid_nb, verbose=1, cv=3, n_jobs=-1)\n",
        "nbModel_grid.fit(sms, y_train)\n",
        "print(nbModel_grid.best_estimator_)"
      ],
      "metadata": {
        "colab": {
          "base_uri": "https://localhost:8080/"
        },
        "id": "sWkG9PStGQ8-",
        "outputId": "79660e3b-2a06-4d90-8536-083a79d12f37"
      },
      "execution_count": 41,
      "outputs": [
        {
          "output_type": "stream",
          "name": "stdout",
          "text": [
            "Fitting 3 folds for each of 16 candidates, totalling 48 fits\n",
            "ComplementNB(alpha=0.1, fit_prior=False)\n"
          ]
        }
      ]
    },
    {
      "cell_type": "code",
      "source": [
        "model_CNB = Pipeline([\n",
        "    (\"tfidf\", TfidfVectorizer(sublinear_tf=True, max_df=0.5)),\n",
        "    (\"BNB\", ComplementNB(alpha=0.1,fit_prior=False))\n",
        "])\n",
        "\n",
        "model_CNB.fit(X_train,y_train)\n",
        "model_CNB.score(X_test,y_test)"
      ],
      "metadata": {
        "colab": {
          "base_uri": "https://localhost:8080/"
        },
        "id": "0LTA3XAoHw8_",
        "outputId": "68dd9f7f-ddf2-426f-b586-3eef4b552495"
      },
      "execution_count": 42,
      "outputs": [
        {
          "output_type": "execute_result",
          "data": {
            "text/plain": [
              "0.9655172413793104"
            ]
          },
          "metadata": {},
          "execution_count": 42
        }
      ]
    },
    {
      "cell_type": "markdown",
      "source": [
        "## **F- Predictions**\n"
      ],
      "metadata": {
        "id": "GhbcOL3PH2ZZ"
      }
    },
    {
      "cell_type": "code",
      "source": [
        "X_Test_To_Predict = test_data[\"TweetText\"]\n",
        "X_Test_To_Predict[:3]"
      ],
      "metadata": {
        "colab": {
          "base_uri": "https://localhost:8080/"
        },
        "id": "AWQv88hQH4Pj",
        "outputId": "f15605ff-fc50-41f5-9307-7aaf81d8148d"
      },
      "execution_count": 43,
      "outputs": [
        {
          "output_type": "execute_result",
          "data": {
            "text/plain": [
              "0    '28. The home side threaten again through Maso...\n",
              "1    '@mrbrown @aulia Thx for asking. See http://t....\n",
              "2    '@Sochi2014 construction along the shores of t...\n",
              "Name: TweetText, dtype: object"
            ]
          },
          "metadata": {},
          "execution_count": 43
        }
      ]
    },
    {
      "cell_type": "code",
      "source": [
        "Test_data_Prediction = model_CNB.predict(X_Test_To_Predict)"
      ],
      "metadata": {
        "id": "dC-8EtOUIJRN"
      },
      "execution_count": 44,
      "outputs": []
    },
    {
      "cell_type": "code",
      "source": [
        "sample_submission = pd.DataFrame(test_data[\"TweetId\"])\n",
        "sample_submission[\"Label\"] = Test_data_Prediction\n",
        "\n",
        "sample_submission.head()"
      ],
      "metadata": {
        "colab": {
          "base_uri": "https://localhost:8080/",
          "height": 206
        },
        "id": "6SYR3naDIMlp",
        "outputId": "eeddbbe5-3091-47c3-c8a8-3f6564135a0e"
      },
      "execution_count": 45,
      "outputs": [
        {
          "output_type": "execute_result",
          "data": {
            "text/plain": [
              "              TweetId  Label\n",
              "0  306486520121012224      1\n",
              "1  286353402605228032      0\n",
              "2  289531046037438464      0\n",
              "3  306451661403062273      0\n",
              "4  297941800658812928      0"
            ],
            "text/html": [
              "\n",
              "  <div id=\"df-13a65c5b-822c-44af-b13f-622184e1e90d\">\n",
              "    <div class=\"colab-df-container\">\n",
              "      <div>\n",
              "<style scoped>\n",
              "    .dataframe tbody tr th:only-of-type {\n",
              "        vertical-align: middle;\n",
              "    }\n",
              "\n",
              "    .dataframe tbody tr th {\n",
              "        vertical-align: top;\n",
              "    }\n",
              "\n",
              "    .dataframe thead th {\n",
              "        text-align: right;\n",
              "    }\n",
              "</style>\n",
              "<table border=\"1\" class=\"dataframe\">\n",
              "  <thead>\n",
              "    <tr style=\"text-align: right;\">\n",
              "      <th></th>\n",
              "      <th>TweetId</th>\n",
              "      <th>Label</th>\n",
              "    </tr>\n",
              "  </thead>\n",
              "  <tbody>\n",
              "    <tr>\n",
              "      <th>0</th>\n",
              "      <td>306486520121012224</td>\n",
              "      <td>1</td>\n",
              "    </tr>\n",
              "    <tr>\n",
              "      <th>1</th>\n",
              "      <td>286353402605228032</td>\n",
              "      <td>0</td>\n",
              "    </tr>\n",
              "    <tr>\n",
              "      <th>2</th>\n",
              "      <td>289531046037438464</td>\n",
              "      <td>0</td>\n",
              "    </tr>\n",
              "    <tr>\n",
              "      <th>3</th>\n",
              "      <td>306451661403062273</td>\n",
              "      <td>0</td>\n",
              "    </tr>\n",
              "    <tr>\n",
              "      <th>4</th>\n",
              "      <td>297941800658812928</td>\n",
              "      <td>0</td>\n",
              "    </tr>\n",
              "  </tbody>\n",
              "</table>\n",
              "</div>\n",
              "      <button class=\"colab-df-convert\" onclick=\"convertToInteractive('df-13a65c5b-822c-44af-b13f-622184e1e90d')\"\n",
              "              title=\"Convert this dataframe to an interactive table.\"\n",
              "              style=\"display:none;\">\n",
              "        \n",
              "  <svg xmlns=\"http://www.w3.org/2000/svg\" height=\"24px\"viewBox=\"0 0 24 24\"\n",
              "       width=\"24px\">\n",
              "    <path d=\"M0 0h24v24H0V0z\" fill=\"none\"/>\n",
              "    <path d=\"M18.56 5.44l.94 2.06.94-2.06 2.06-.94-2.06-.94-.94-2.06-.94 2.06-2.06.94zm-11 1L8.5 8.5l.94-2.06 2.06-.94-2.06-.94L8.5 2.5l-.94 2.06-2.06.94zm10 10l.94 2.06.94-2.06 2.06-.94-2.06-.94-.94-2.06-.94 2.06-2.06.94z\"/><path d=\"M17.41 7.96l-1.37-1.37c-.4-.4-.92-.59-1.43-.59-.52 0-1.04.2-1.43.59L10.3 9.45l-7.72 7.72c-.78.78-.78 2.05 0 2.83L4 21.41c.39.39.9.59 1.41.59.51 0 1.02-.2 1.41-.59l7.78-7.78 2.81-2.81c.8-.78.8-2.07 0-2.86zM5.41 20L4 18.59l7.72-7.72 1.47 1.35L5.41 20z\"/>\n",
              "  </svg>\n",
              "      </button>\n",
              "      \n",
              "  <style>\n",
              "    .colab-df-container {\n",
              "      display:flex;\n",
              "      flex-wrap:wrap;\n",
              "      gap: 12px;\n",
              "    }\n",
              "\n",
              "    .colab-df-convert {\n",
              "      background-color: #E8F0FE;\n",
              "      border: none;\n",
              "      border-radius: 50%;\n",
              "      cursor: pointer;\n",
              "      display: none;\n",
              "      fill: #1967D2;\n",
              "      height: 32px;\n",
              "      padding: 0 0 0 0;\n",
              "      width: 32px;\n",
              "    }\n",
              "\n",
              "    .colab-df-convert:hover {\n",
              "      background-color: #E2EBFA;\n",
              "      box-shadow: 0px 1px 2px rgba(60, 64, 67, 0.3), 0px 1px 3px 1px rgba(60, 64, 67, 0.15);\n",
              "      fill: #174EA6;\n",
              "    }\n",
              "\n",
              "    [theme=dark] .colab-df-convert {\n",
              "      background-color: #3B4455;\n",
              "      fill: #D2E3FC;\n",
              "    }\n",
              "\n",
              "    [theme=dark] .colab-df-convert:hover {\n",
              "      background-color: #434B5C;\n",
              "      box-shadow: 0px 1px 3px 1px rgba(0, 0, 0, 0.15);\n",
              "      filter: drop-shadow(0px 1px 2px rgba(0, 0, 0, 0.3));\n",
              "      fill: #FFFFFF;\n",
              "    }\n",
              "  </style>\n",
              "\n",
              "      <script>\n",
              "        const buttonEl =\n",
              "          document.querySelector('#df-13a65c5b-822c-44af-b13f-622184e1e90d button.colab-df-convert');\n",
              "        buttonEl.style.display =\n",
              "          google.colab.kernel.accessAllowed ? 'block' : 'none';\n",
              "\n",
              "        async function convertToInteractive(key) {\n",
              "          const element = document.querySelector('#df-13a65c5b-822c-44af-b13f-622184e1e90d');\n",
              "          const dataTable =\n",
              "            await google.colab.kernel.invokeFunction('convertToInteractive',\n",
              "                                                     [key], {});\n",
              "          if (!dataTable) return;\n",
              "\n",
              "          const docLinkHtml = 'Like what you see? Visit the ' +\n",
              "            '<a target=\"_blank\" href=https://colab.research.google.com/notebooks/data_table.ipynb>data table notebook</a>'\n",
              "            + ' to learn more about interactive tables.';\n",
              "          element.innerHTML = '';\n",
              "          dataTable['output_type'] = 'display_data';\n",
              "          await google.colab.output.renderOutput(dataTable, element);\n",
              "          const docLink = document.createElement('div');\n",
              "          docLink.innerHTML = docLinkHtml;\n",
              "          element.appendChild(docLink);\n",
              "        }\n",
              "      </script>\n",
              "    </div>\n",
              "  </div>\n",
              "  "
            ]
          },
          "metadata": {},
          "execution_count": 45
        }
      ]
    },
    {
      "cell_type": "code",
      "source": [
        "sample_submission = sample_submission.replace({\"Label\":{1:\"Sports\", 0:\"Politics\"}})\n",
        "sample_submission.head()"
      ],
      "metadata": {
        "colab": {
          "base_uri": "https://localhost:8080/",
          "height": 206
        },
        "id": "UdOxZ_Z7ITrs",
        "outputId": "3f88ae27-e82d-4efa-b63f-64f3906b9f22"
      },
      "execution_count": 46,
      "outputs": [
        {
          "output_type": "execute_result",
          "data": {
            "text/plain": [
              "              TweetId     Label\n",
              "0  306486520121012224    Sports\n",
              "1  286353402605228032  Politics\n",
              "2  289531046037438464  Politics\n",
              "3  306451661403062273  Politics\n",
              "4  297941800658812928  Politics"
            ],
            "text/html": [
              "\n",
              "  <div id=\"df-8b8b1490-8c0d-4c3c-985e-fb97d9abb651\">\n",
              "    <div class=\"colab-df-container\">\n",
              "      <div>\n",
              "<style scoped>\n",
              "    .dataframe tbody tr th:only-of-type {\n",
              "        vertical-align: middle;\n",
              "    }\n",
              "\n",
              "    .dataframe tbody tr th {\n",
              "        vertical-align: top;\n",
              "    }\n",
              "\n",
              "    .dataframe thead th {\n",
              "        text-align: right;\n",
              "    }\n",
              "</style>\n",
              "<table border=\"1\" class=\"dataframe\">\n",
              "  <thead>\n",
              "    <tr style=\"text-align: right;\">\n",
              "      <th></th>\n",
              "      <th>TweetId</th>\n",
              "      <th>Label</th>\n",
              "    </tr>\n",
              "  </thead>\n",
              "  <tbody>\n",
              "    <tr>\n",
              "      <th>0</th>\n",
              "      <td>306486520121012224</td>\n",
              "      <td>Sports</td>\n",
              "    </tr>\n",
              "    <tr>\n",
              "      <th>1</th>\n",
              "      <td>286353402605228032</td>\n",
              "      <td>Politics</td>\n",
              "    </tr>\n",
              "    <tr>\n",
              "      <th>2</th>\n",
              "      <td>289531046037438464</td>\n",
              "      <td>Politics</td>\n",
              "    </tr>\n",
              "    <tr>\n",
              "      <th>3</th>\n",
              "      <td>306451661403062273</td>\n",
              "      <td>Politics</td>\n",
              "    </tr>\n",
              "    <tr>\n",
              "      <th>4</th>\n",
              "      <td>297941800658812928</td>\n",
              "      <td>Politics</td>\n",
              "    </tr>\n",
              "  </tbody>\n",
              "</table>\n",
              "</div>\n",
              "      <button class=\"colab-df-convert\" onclick=\"convertToInteractive('df-8b8b1490-8c0d-4c3c-985e-fb97d9abb651')\"\n",
              "              title=\"Convert this dataframe to an interactive table.\"\n",
              "              style=\"display:none;\">\n",
              "        \n",
              "  <svg xmlns=\"http://www.w3.org/2000/svg\" height=\"24px\"viewBox=\"0 0 24 24\"\n",
              "       width=\"24px\">\n",
              "    <path d=\"M0 0h24v24H0V0z\" fill=\"none\"/>\n",
              "    <path d=\"M18.56 5.44l.94 2.06.94-2.06 2.06-.94-2.06-.94-.94-2.06-.94 2.06-2.06.94zm-11 1L8.5 8.5l.94-2.06 2.06-.94-2.06-.94L8.5 2.5l-.94 2.06-2.06.94zm10 10l.94 2.06.94-2.06 2.06-.94-2.06-.94-.94-2.06-.94 2.06-2.06.94z\"/><path d=\"M17.41 7.96l-1.37-1.37c-.4-.4-.92-.59-1.43-.59-.52 0-1.04.2-1.43.59L10.3 9.45l-7.72 7.72c-.78.78-.78 2.05 0 2.83L4 21.41c.39.39.9.59 1.41.59.51 0 1.02-.2 1.41-.59l7.78-7.78 2.81-2.81c.8-.78.8-2.07 0-2.86zM5.41 20L4 18.59l7.72-7.72 1.47 1.35L5.41 20z\"/>\n",
              "  </svg>\n",
              "      </button>\n",
              "      \n",
              "  <style>\n",
              "    .colab-df-container {\n",
              "      display:flex;\n",
              "      flex-wrap:wrap;\n",
              "      gap: 12px;\n",
              "    }\n",
              "\n",
              "    .colab-df-convert {\n",
              "      background-color: #E8F0FE;\n",
              "      border: none;\n",
              "      border-radius: 50%;\n",
              "      cursor: pointer;\n",
              "      display: none;\n",
              "      fill: #1967D2;\n",
              "      height: 32px;\n",
              "      padding: 0 0 0 0;\n",
              "      width: 32px;\n",
              "    }\n",
              "\n",
              "    .colab-df-convert:hover {\n",
              "      background-color: #E2EBFA;\n",
              "      box-shadow: 0px 1px 2px rgba(60, 64, 67, 0.3), 0px 1px 3px 1px rgba(60, 64, 67, 0.15);\n",
              "      fill: #174EA6;\n",
              "    }\n",
              "\n",
              "    [theme=dark] .colab-df-convert {\n",
              "      background-color: #3B4455;\n",
              "      fill: #D2E3FC;\n",
              "    }\n",
              "\n",
              "    [theme=dark] .colab-df-convert:hover {\n",
              "      background-color: #434B5C;\n",
              "      box-shadow: 0px 1px 3px 1px rgba(0, 0, 0, 0.15);\n",
              "      filter: drop-shadow(0px 1px 2px rgba(0, 0, 0, 0.3));\n",
              "      fill: #FFFFFF;\n",
              "    }\n",
              "  </style>\n",
              "\n",
              "      <script>\n",
              "        const buttonEl =\n",
              "          document.querySelector('#df-8b8b1490-8c0d-4c3c-985e-fb97d9abb651 button.colab-df-convert');\n",
              "        buttonEl.style.display =\n",
              "          google.colab.kernel.accessAllowed ? 'block' : 'none';\n",
              "\n",
              "        async function convertToInteractive(key) {\n",
              "          const element = document.querySelector('#df-8b8b1490-8c0d-4c3c-985e-fb97d9abb651');\n",
              "          const dataTable =\n",
              "            await google.colab.kernel.invokeFunction('convertToInteractive',\n",
              "                                                     [key], {});\n",
              "          if (!dataTable) return;\n",
              "\n",
              "          const docLinkHtml = 'Like what you see? Visit the ' +\n",
              "            '<a target=\"_blank\" href=https://colab.research.google.com/notebooks/data_table.ipynb>data table notebook</a>'\n",
              "            + ' to learn more about interactive tables.';\n",
              "          element.innerHTML = '';\n",
              "          dataTable['output_type'] = 'display_data';\n",
              "          await google.colab.output.renderOutput(dataTable, element);\n",
              "          const docLink = document.createElement('div');\n",
              "          docLink.innerHTML = docLinkHtml;\n",
              "          element.appendChild(docLink);\n",
              "        }\n",
              "      </script>\n",
              "    </div>\n",
              "  </div>\n",
              "  "
            ]
          },
          "metadata": {},
          "execution_count": 46
        }
      ]
    },
    {
      "cell_type": "code",
      "source": [
        "sample_submission.to_csv(\"sample_submission.csv\", index=False)"
      ],
      "metadata": {
        "id": "OBsDhnuRI5dI"
      },
      "execution_count": 54,
      "outputs": []
    },
    {
      "cell_type": "code",
      "source": [
        "sample_submission.Label.value_counts()"
      ],
      "metadata": {
        "colab": {
          "base_uri": "https://localhost:8080/"
        },
        "id": "iJ84j5naI_IM",
        "outputId": "8336a304-7458-411a-b13c-dc31f26709ec"
      },
      "execution_count": 55,
      "outputs": [
        {
          "output_type": "execute_result",
          "data": {
            "text/plain": [
              "Politics    1468\n",
              "Sports      1142\n",
              "Name: Label, dtype: int64"
            ]
          },
          "metadata": {},
          "execution_count": 55
        }
      ]
    }
  ]
}