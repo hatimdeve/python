{
  "nbformat": 4,
  "nbformat_minor": 0,
  "metadata": {
    "colab": {
      "provenance": [],
      "authorship_tag": "ABX9TyNslWBV7fHtbQHg1VWjGc7/",
      "include_colab_link": true
    },
    "kernelspec": {
      "name": "python3",
      "display_name": "Python 3"
    },
    "language_info": {
      "name": "python"
    }
  },
  "cells": [
    {
      "cell_type": "markdown",
      "metadata": {
        "id": "view-in-github",
        "colab_type": "text"
      },
      "source": [
        "<a href=\"https://colab.research.google.com/github/hatimdeve/python/blob/main/Pipeline_MAchine_Learning.ipynb\" target=\"_parent\"><img src=\"https://colab.research.google.com/assets/colab-badge.svg\" alt=\"Open In Colab\"/></a>"
      ]
    },
    {
      "cell_type": "code",
      "execution_count": 1,
      "metadata": {
        "id": "Vj4Bv4RkFtrh"
      },
      "outputs": [],
      "source": [
        "from sklearn.pipeline import Pipeline\n",
        "##feature Scaling\n",
        "from sklearn.preprocessing import StandardScaler\n",
        "from sklearn.linear_model import LogisticRegression"
      ]
    },
    {
      "cell_type": "code",
      "source": [
        "steps=[(\"standard_scaler\",StandardScaler()),\n",
        "      (\"classifier\",LogisticRegression())]"
      ],
      "metadata": {
        "id": "0xY215uKHlyk"
      },
      "execution_count": 2,
      "outputs": []
    },
    {
      "cell_type": "code",
      "source": [
        "steps"
      ],
      "metadata": {
        "colab": {
          "base_uri": "https://localhost:8080/"
        },
        "id": "5pBQ0jxNHp9V",
        "outputId": "600defe2-c2c5-4c16-aeaf-df474f56af82"
      },
      "execution_count": 3,
      "outputs": [
        {
          "output_type": "execute_result",
          "data": {
            "text/plain": [
              "[('standard_scaler', StandardScaler()), ('classifier', LogisticRegression())]"
            ]
          },
          "metadata": {},
          "execution_count": 3
        }
      ]
    },
    {
      "cell_type": "code",
      "source": [
        "pipe=Pipeline(steps)"
      ],
      "metadata": {
        "id": "qn2JcDg1HsQH"
      },
      "execution_count": 4,
      "outputs": []
    },
    {
      "cell_type": "code",
      "source": [
        "##visualize Pipeline\n",
        "from sklearn import set_config"
      ],
      "metadata": {
        "id": "VxgHeZ7DHuy7"
      },
      "execution_count": 5,
      "outputs": []
    },
    {
      "cell_type": "code",
      "source": [
        "set_config(display=\"diagram\")"
      ],
      "metadata": {
        "id": "_D9JF_BZHwty"
      },
      "execution_count": 6,
      "outputs": []
    },
    {
      "cell_type": "code",
      "source": [
        "pipe"
      ],
      "metadata": {
        "colab": {
          "base_uri": "https://localhost:8080/",
          "height": 126
        },
        "id": "Zl-sxivmHy_A",
        "outputId": "767464e0-770c-4627-d9c2-32530800d31f"
      },
      "execution_count": 7,
      "outputs": [
        {
          "output_type": "execute_result",
          "data": {
            "text/plain": [
              "Pipeline(steps=[('standard_scaler', StandardScaler()),\n",
              "                ('classifier', LogisticRegression())])"
            ],
            "text/html": [
              "<style>#sk-cd9119d2-3dec-457f-b659-7437efc84b7a {color: black;background-color: white;}#sk-cd9119d2-3dec-457f-b659-7437efc84b7a pre{padding: 0;}#sk-cd9119d2-3dec-457f-b659-7437efc84b7a div.sk-toggleable {background-color: white;}#sk-cd9119d2-3dec-457f-b659-7437efc84b7a label.sk-toggleable__label {cursor: pointer;display: block;width: 100%;margin-bottom: 0;padding: 0.3em;box-sizing: border-box;text-align: center;}#sk-cd9119d2-3dec-457f-b659-7437efc84b7a label.sk-toggleable__label-arrow:before {content: \"▸\";float: left;margin-right: 0.25em;color: #696969;}#sk-cd9119d2-3dec-457f-b659-7437efc84b7a label.sk-toggleable__label-arrow:hover:before {color: black;}#sk-cd9119d2-3dec-457f-b659-7437efc84b7a div.sk-estimator:hover label.sk-toggleable__label-arrow:before {color: black;}#sk-cd9119d2-3dec-457f-b659-7437efc84b7a div.sk-toggleable__content {max-height: 0;max-width: 0;overflow: hidden;text-align: left;background-color: #f0f8ff;}#sk-cd9119d2-3dec-457f-b659-7437efc84b7a div.sk-toggleable__content pre {margin: 0.2em;color: black;border-radius: 0.25em;background-color: #f0f8ff;}#sk-cd9119d2-3dec-457f-b659-7437efc84b7a input.sk-toggleable__control:checked~div.sk-toggleable__content {max-height: 200px;max-width: 100%;overflow: auto;}#sk-cd9119d2-3dec-457f-b659-7437efc84b7a input.sk-toggleable__control:checked~label.sk-toggleable__label-arrow:before {content: \"▾\";}#sk-cd9119d2-3dec-457f-b659-7437efc84b7a div.sk-estimator input.sk-toggleable__control:checked~label.sk-toggleable__label {background-color: #d4ebff;}#sk-cd9119d2-3dec-457f-b659-7437efc84b7a div.sk-label input.sk-toggleable__control:checked~label.sk-toggleable__label {background-color: #d4ebff;}#sk-cd9119d2-3dec-457f-b659-7437efc84b7a input.sk-hidden--visually {border: 0;clip: rect(1px 1px 1px 1px);clip: rect(1px, 1px, 1px, 1px);height: 1px;margin: -1px;overflow: hidden;padding: 0;position: absolute;width: 1px;}#sk-cd9119d2-3dec-457f-b659-7437efc84b7a div.sk-estimator {font-family: monospace;background-color: #f0f8ff;border: 1px dotted black;border-radius: 0.25em;box-sizing: border-box;margin-bottom: 0.5em;}#sk-cd9119d2-3dec-457f-b659-7437efc84b7a div.sk-estimator:hover {background-color: #d4ebff;}#sk-cd9119d2-3dec-457f-b659-7437efc84b7a div.sk-parallel-item::after {content: \"\";width: 100%;border-bottom: 1px solid gray;flex-grow: 1;}#sk-cd9119d2-3dec-457f-b659-7437efc84b7a div.sk-label:hover label.sk-toggleable__label {background-color: #d4ebff;}#sk-cd9119d2-3dec-457f-b659-7437efc84b7a div.sk-serial::before {content: \"\";position: absolute;border-left: 1px solid gray;box-sizing: border-box;top: 2em;bottom: 0;left: 50%;}#sk-cd9119d2-3dec-457f-b659-7437efc84b7a div.sk-serial {display: flex;flex-direction: column;align-items: center;background-color: white;padding-right: 0.2em;padding-left: 0.2em;}#sk-cd9119d2-3dec-457f-b659-7437efc84b7a div.sk-item {z-index: 1;}#sk-cd9119d2-3dec-457f-b659-7437efc84b7a div.sk-parallel {display: flex;align-items: stretch;justify-content: center;background-color: white;}#sk-cd9119d2-3dec-457f-b659-7437efc84b7a div.sk-parallel::before {content: \"\";position: absolute;border-left: 1px solid gray;box-sizing: border-box;top: 2em;bottom: 0;left: 50%;}#sk-cd9119d2-3dec-457f-b659-7437efc84b7a div.sk-parallel-item {display: flex;flex-direction: column;position: relative;background-color: white;}#sk-cd9119d2-3dec-457f-b659-7437efc84b7a div.sk-parallel-item:first-child::after {align-self: flex-end;width: 50%;}#sk-cd9119d2-3dec-457f-b659-7437efc84b7a div.sk-parallel-item:last-child::after {align-self: flex-start;width: 50%;}#sk-cd9119d2-3dec-457f-b659-7437efc84b7a div.sk-parallel-item:only-child::after {width: 0;}#sk-cd9119d2-3dec-457f-b659-7437efc84b7a div.sk-dashed-wrapped {border: 1px dashed gray;margin: 0 0.4em 0.5em 0.4em;box-sizing: border-box;padding-bottom: 0.4em;background-color: white;position: relative;}#sk-cd9119d2-3dec-457f-b659-7437efc84b7a div.sk-label label {font-family: monospace;font-weight: bold;background-color: white;display: inline-block;line-height: 1.2em;}#sk-cd9119d2-3dec-457f-b659-7437efc84b7a div.sk-label-container {position: relative;z-index: 2;text-align: center;}#sk-cd9119d2-3dec-457f-b659-7437efc84b7a div.sk-container {/* jupyter's `normalize.less` sets `[hidden] { display: none; }` but bootstrap.min.css set `[hidden] { display: none !important; }` so we also need the `!important` here to be able to override the default hidden behavior on the sphinx rendered scikit-learn.org. See: https://github.com/scikit-learn/scikit-learn/issues/21755 */display: inline-block !important;position: relative;}#sk-cd9119d2-3dec-457f-b659-7437efc84b7a div.sk-text-repr-fallback {display: none;}</style><div id=\"sk-cd9119d2-3dec-457f-b659-7437efc84b7a\" class=\"sk-top-container\"><div class=\"sk-text-repr-fallback\"><pre>Pipeline(steps=[(&#x27;standard_scaler&#x27;, StandardScaler()),\n",
              "                (&#x27;classifier&#x27;, LogisticRegression())])</pre><b>Please rerun this cell to show the HTML repr or trust the notebook.</b></div><div class=\"sk-container\" hidden><div class=\"sk-item sk-dashed-wrapped\"><div class=\"sk-label-container\"><div class=\"sk-label sk-toggleable\"><input class=\"sk-toggleable__control sk-hidden--visually\" id=\"302342db-92b5-4127-9f14-8628ec89be49\" type=\"checkbox\" ><label for=\"302342db-92b5-4127-9f14-8628ec89be49\" class=\"sk-toggleable__label sk-toggleable__label-arrow\">Pipeline</label><div class=\"sk-toggleable__content\"><pre>Pipeline(steps=[(&#x27;standard_scaler&#x27;, StandardScaler()),\n",
              "                (&#x27;classifier&#x27;, LogisticRegression())])</pre></div></div></div><div class=\"sk-serial\"><div class=\"sk-item\"><div class=\"sk-estimator sk-toggleable\"><input class=\"sk-toggleable__control sk-hidden--visually\" id=\"0bbe33d5-6d1c-4e53-b218-d66eb1f24dfb\" type=\"checkbox\" ><label for=\"0bbe33d5-6d1c-4e53-b218-d66eb1f24dfb\" class=\"sk-toggleable__label sk-toggleable__label-arrow\">StandardScaler</label><div class=\"sk-toggleable__content\"><pre>StandardScaler()</pre></div></div></div><div class=\"sk-item\"><div class=\"sk-estimator sk-toggleable\"><input class=\"sk-toggleable__control sk-hidden--visually\" id=\"40711f25-7026-40bb-8790-e65e2841ed1c\" type=\"checkbox\" ><label for=\"40711f25-7026-40bb-8790-e65e2841ed1c\" class=\"sk-toggleable__label sk-toggleable__label-arrow\">LogisticRegression</label><div class=\"sk-toggleable__content\"><pre>LogisticRegression()</pre></div></div></div></div></div></div></div>"
            ]
          },
          "metadata": {},
          "execution_count": 7
        }
      ]
    },
    {
      "cell_type": "code",
      "source": [
        "##creating a dataset\n",
        "from sklearn.datasets import make_classification\n",
        "X,y=make_classification(n_samples=1000)"
      ],
      "metadata": {
        "id": "jdmfUE-VJw8v"
      },
      "execution_count": 8,
      "outputs": []
    },
    {
      "cell_type": "code",
      "source": [
        "from sklearn.model_selection import train_test_split\n",
        "X_train, X_test, y_train, y_test = train_test_split(\n",
        "    X, y, test_size=0.33, random_state=42)"
      ],
      "metadata": {
        "id": "c8K6iBXJJzXV"
      },
      "execution_count": 9,
      "outputs": []
    },
    {
      "cell_type": "code",
      "source": [
        "pipe.fit(X_train,y_train)"
      ],
      "metadata": {
        "colab": {
          "base_uri": "https://localhost:8080/",
          "height": 126
        },
        "id": "QITTZ5i1J2_X",
        "outputId": "41fe5650-f856-4cae-8452-0882d2761041"
      },
      "execution_count": 10,
      "outputs": [
        {
          "output_type": "execute_result",
          "data": {
            "text/plain": [
              "Pipeline(steps=[('standard_scaler', StandardScaler()),\n",
              "                ('classifier', LogisticRegression())])"
            ],
            "text/html": [
              "<style>#sk-467bc815-b451-4709-b56f-34318d0e60fd {color: black;background-color: white;}#sk-467bc815-b451-4709-b56f-34318d0e60fd pre{padding: 0;}#sk-467bc815-b451-4709-b56f-34318d0e60fd div.sk-toggleable {background-color: white;}#sk-467bc815-b451-4709-b56f-34318d0e60fd label.sk-toggleable__label {cursor: pointer;display: block;width: 100%;margin-bottom: 0;padding: 0.3em;box-sizing: border-box;text-align: center;}#sk-467bc815-b451-4709-b56f-34318d0e60fd label.sk-toggleable__label-arrow:before {content: \"▸\";float: left;margin-right: 0.25em;color: #696969;}#sk-467bc815-b451-4709-b56f-34318d0e60fd label.sk-toggleable__label-arrow:hover:before {color: black;}#sk-467bc815-b451-4709-b56f-34318d0e60fd div.sk-estimator:hover label.sk-toggleable__label-arrow:before {color: black;}#sk-467bc815-b451-4709-b56f-34318d0e60fd div.sk-toggleable__content {max-height: 0;max-width: 0;overflow: hidden;text-align: left;background-color: #f0f8ff;}#sk-467bc815-b451-4709-b56f-34318d0e60fd div.sk-toggleable__content pre {margin: 0.2em;color: black;border-radius: 0.25em;background-color: #f0f8ff;}#sk-467bc815-b451-4709-b56f-34318d0e60fd input.sk-toggleable__control:checked~div.sk-toggleable__content {max-height: 200px;max-width: 100%;overflow: auto;}#sk-467bc815-b451-4709-b56f-34318d0e60fd input.sk-toggleable__control:checked~label.sk-toggleable__label-arrow:before {content: \"▾\";}#sk-467bc815-b451-4709-b56f-34318d0e60fd div.sk-estimator input.sk-toggleable__control:checked~label.sk-toggleable__label {background-color: #d4ebff;}#sk-467bc815-b451-4709-b56f-34318d0e60fd div.sk-label input.sk-toggleable__control:checked~label.sk-toggleable__label {background-color: #d4ebff;}#sk-467bc815-b451-4709-b56f-34318d0e60fd input.sk-hidden--visually {border: 0;clip: rect(1px 1px 1px 1px);clip: rect(1px, 1px, 1px, 1px);height: 1px;margin: -1px;overflow: hidden;padding: 0;position: absolute;width: 1px;}#sk-467bc815-b451-4709-b56f-34318d0e60fd div.sk-estimator {font-family: monospace;background-color: #f0f8ff;border: 1px dotted black;border-radius: 0.25em;box-sizing: border-box;margin-bottom: 0.5em;}#sk-467bc815-b451-4709-b56f-34318d0e60fd div.sk-estimator:hover {background-color: #d4ebff;}#sk-467bc815-b451-4709-b56f-34318d0e60fd div.sk-parallel-item::after {content: \"\";width: 100%;border-bottom: 1px solid gray;flex-grow: 1;}#sk-467bc815-b451-4709-b56f-34318d0e60fd div.sk-label:hover label.sk-toggleable__label {background-color: #d4ebff;}#sk-467bc815-b451-4709-b56f-34318d0e60fd div.sk-serial::before {content: \"\";position: absolute;border-left: 1px solid gray;box-sizing: border-box;top: 2em;bottom: 0;left: 50%;}#sk-467bc815-b451-4709-b56f-34318d0e60fd div.sk-serial {display: flex;flex-direction: column;align-items: center;background-color: white;padding-right: 0.2em;padding-left: 0.2em;}#sk-467bc815-b451-4709-b56f-34318d0e60fd div.sk-item {z-index: 1;}#sk-467bc815-b451-4709-b56f-34318d0e60fd div.sk-parallel {display: flex;align-items: stretch;justify-content: center;background-color: white;}#sk-467bc815-b451-4709-b56f-34318d0e60fd div.sk-parallel::before {content: \"\";position: absolute;border-left: 1px solid gray;box-sizing: border-box;top: 2em;bottom: 0;left: 50%;}#sk-467bc815-b451-4709-b56f-34318d0e60fd div.sk-parallel-item {display: flex;flex-direction: column;position: relative;background-color: white;}#sk-467bc815-b451-4709-b56f-34318d0e60fd div.sk-parallel-item:first-child::after {align-self: flex-end;width: 50%;}#sk-467bc815-b451-4709-b56f-34318d0e60fd div.sk-parallel-item:last-child::after {align-self: flex-start;width: 50%;}#sk-467bc815-b451-4709-b56f-34318d0e60fd div.sk-parallel-item:only-child::after {width: 0;}#sk-467bc815-b451-4709-b56f-34318d0e60fd div.sk-dashed-wrapped {border: 1px dashed gray;margin: 0 0.4em 0.5em 0.4em;box-sizing: border-box;padding-bottom: 0.4em;background-color: white;position: relative;}#sk-467bc815-b451-4709-b56f-34318d0e60fd div.sk-label label {font-family: monospace;font-weight: bold;background-color: white;display: inline-block;line-height: 1.2em;}#sk-467bc815-b451-4709-b56f-34318d0e60fd div.sk-label-container {position: relative;z-index: 2;text-align: center;}#sk-467bc815-b451-4709-b56f-34318d0e60fd div.sk-container {/* jupyter's `normalize.less` sets `[hidden] { display: none; }` but bootstrap.min.css set `[hidden] { display: none !important; }` so we also need the `!important` here to be able to override the default hidden behavior on the sphinx rendered scikit-learn.org. See: https://github.com/scikit-learn/scikit-learn/issues/21755 */display: inline-block !important;position: relative;}#sk-467bc815-b451-4709-b56f-34318d0e60fd div.sk-text-repr-fallback {display: none;}</style><div id=\"sk-467bc815-b451-4709-b56f-34318d0e60fd\" class=\"sk-top-container\"><div class=\"sk-text-repr-fallback\"><pre>Pipeline(steps=[(&#x27;standard_scaler&#x27;, StandardScaler()),\n",
              "                (&#x27;classifier&#x27;, LogisticRegression())])</pre><b>Please rerun this cell to show the HTML repr or trust the notebook.</b></div><div class=\"sk-container\" hidden><div class=\"sk-item sk-dashed-wrapped\"><div class=\"sk-label-container\"><div class=\"sk-label sk-toggleable\"><input class=\"sk-toggleable__control sk-hidden--visually\" id=\"7e1edd69-29bf-4192-a81e-54110b80932e\" type=\"checkbox\" ><label for=\"7e1edd69-29bf-4192-a81e-54110b80932e\" class=\"sk-toggleable__label sk-toggleable__label-arrow\">Pipeline</label><div class=\"sk-toggleable__content\"><pre>Pipeline(steps=[(&#x27;standard_scaler&#x27;, StandardScaler()),\n",
              "                (&#x27;classifier&#x27;, LogisticRegression())])</pre></div></div></div><div class=\"sk-serial\"><div class=\"sk-item\"><div class=\"sk-estimator sk-toggleable\"><input class=\"sk-toggleable__control sk-hidden--visually\" id=\"3c07395c-0052-4cdc-9773-f95046e58877\" type=\"checkbox\" ><label for=\"3c07395c-0052-4cdc-9773-f95046e58877\" class=\"sk-toggleable__label sk-toggleable__label-arrow\">StandardScaler</label><div class=\"sk-toggleable__content\"><pre>StandardScaler()</pre></div></div></div><div class=\"sk-item\"><div class=\"sk-estimator sk-toggleable\"><input class=\"sk-toggleable__control sk-hidden--visually\" id=\"067c6632-e161-4b0f-aa35-b7c3f0b24fad\" type=\"checkbox\" ><label for=\"067c6632-e161-4b0f-aa35-b7c3f0b24fad\" class=\"sk-toggleable__label sk-toggleable__label-arrow\">LogisticRegression</label><div class=\"sk-toggleable__content\"><pre>LogisticRegression()</pre></div></div></div></div></div></div></div>"
            ]
          },
          "metadata": {},
          "execution_count": 10
        }
      ]
    },
    {
      "cell_type": "code",
      "source": [
        "y_pred=pipe.predict(X_test)"
      ],
      "metadata": {
        "id": "wkjuto3GJ5TQ"
      },
      "execution_count": 11,
      "outputs": []
    },
    {
      "cell_type": "markdown",
      "source": [
        "Example 2\n",
        "\n",
        "Displaying a pipeline with standard scaler, dimesnionality reduction and then estimator"
      ],
      "metadata": {
        "id": "R6-GCEnULcmn"
      }
    },
    {
      "cell_type": "code",
      "source": [
        "from sklearn.decomposition import PCA\n",
        "from sklearn.svm import SVC"
      ],
      "metadata": {
        "id": "8LNSzcEiLdNX"
      },
      "execution_count": 12,
      "outputs": []
    },
    {
      "cell_type": "code",
      "source": [
        "steps=[(\"scaling\",StandardScaler()),\n",
        "      (\"PCA\",PCA(n_components=3)),\n",
        "      (\"SVC\",SVC())]"
      ],
      "metadata": {
        "id": "Vxri-PCAJ5Y7"
      },
      "execution_count": 13,
      "outputs": []
    },
    {
      "cell_type": "code",
      "source": [
        "pipe2=Pipeline(steps)"
      ],
      "metadata": {
        "id": "Bvs8x3X4LkMG"
      },
      "execution_count": 14,
      "outputs": []
    },
    {
      "cell_type": "code",
      "source": [
        "pipe2.fit(X_train,y_train)"
      ],
      "metadata": {
        "colab": {
          "base_uri": "https://localhost:8080/",
          "height": 161
        },
        "id": "bzAcvkeeLl3H",
        "outputId": "711a77f3-2311-4889-e1a9-43a9236b9cf1"
      },
      "execution_count": 15,
      "outputs": [
        {
          "output_type": "execute_result",
          "data": {
            "text/plain": [
              "Pipeline(steps=[('scaling', StandardScaler()), ('PCA', PCA(n_components=3)),\n",
              "                ('SVC', SVC())])"
            ],
            "text/html": [
              "<style>#sk-9c7d8fb4-eaee-4882-a5ba-b4d4f128087d {color: black;background-color: white;}#sk-9c7d8fb4-eaee-4882-a5ba-b4d4f128087d pre{padding: 0;}#sk-9c7d8fb4-eaee-4882-a5ba-b4d4f128087d div.sk-toggleable {background-color: white;}#sk-9c7d8fb4-eaee-4882-a5ba-b4d4f128087d label.sk-toggleable__label {cursor: pointer;display: block;width: 100%;margin-bottom: 0;padding: 0.3em;box-sizing: border-box;text-align: center;}#sk-9c7d8fb4-eaee-4882-a5ba-b4d4f128087d label.sk-toggleable__label-arrow:before {content: \"▸\";float: left;margin-right: 0.25em;color: #696969;}#sk-9c7d8fb4-eaee-4882-a5ba-b4d4f128087d label.sk-toggleable__label-arrow:hover:before {color: black;}#sk-9c7d8fb4-eaee-4882-a5ba-b4d4f128087d div.sk-estimator:hover label.sk-toggleable__label-arrow:before {color: black;}#sk-9c7d8fb4-eaee-4882-a5ba-b4d4f128087d div.sk-toggleable__content {max-height: 0;max-width: 0;overflow: hidden;text-align: left;background-color: #f0f8ff;}#sk-9c7d8fb4-eaee-4882-a5ba-b4d4f128087d div.sk-toggleable__content pre {margin: 0.2em;color: black;border-radius: 0.25em;background-color: #f0f8ff;}#sk-9c7d8fb4-eaee-4882-a5ba-b4d4f128087d input.sk-toggleable__control:checked~div.sk-toggleable__content {max-height: 200px;max-width: 100%;overflow: auto;}#sk-9c7d8fb4-eaee-4882-a5ba-b4d4f128087d input.sk-toggleable__control:checked~label.sk-toggleable__label-arrow:before {content: \"▾\";}#sk-9c7d8fb4-eaee-4882-a5ba-b4d4f128087d div.sk-estimator input.sk-toggleable__control:checked~label.sk-toggleable__label {background-color: #d4ebff;}#sk-9c7d8fb4-eaee-4882-a5ba-b4d4f128087d div.sk-label input.sk-toggleable__control:checked~label.sk-toggleable__label {background-color: #d4ebff;}#sk-9c7d8fb4-eaee-4882-a5ba-b4d4f128087d input.sk-hidden--visually {border: 0;clip: rect(1px 1px 1px 1px);clip: rect(1px, 1px, 1px, 1px);height: 1px;margin: -1px;overflow: hidden;padding: 0;position: absolute;width: 1px;}#sk-9c7d8fb4-eaee-4882-a5ba-b4d4f128087d div.sk-estimator {font-family: monospace;background-color: #f0f8ff;border: 1px dotted black;border-radius: 0.25em;box-sizing: border-box;margin-bottom: 0.5em;}#sk-9c7d8fb4-eaee-4882-a5ba-b4d4f128087d div.sk-estimator:hover {background-color: #d4ebff;}#sk-9c7d8fb4-eaee-4882-a5ba-b4d4f128087d div.sk-parallel-item::after {content: \"\";width: 100%;border-bottom: 1px solid gray;flex-grow: 1;}#sk-9c7d8fb4-eaee-4882-a5ba-b4d4f128087d div.sk-label:hover label.sk-toggleable__label {background-color: #d4ebff;}#sk-9c7d8fb4-eaee-4882-a5ba-b4d4f128087d div.sk-serial::before {content: \"\";position: absolute;border-left: 1px solid gray;box-sizing: border-box;top: 2em;bottom: 0;left: 50%;}#sk-9c7d8fb4-eaee-4882-a5ba-b4d4f128087d div.sk-serial {display: flex;flex-direction: column;align-items: center;background-color: white;padding-right: 0.2em;padding-left: 0.2em;}#sk-9c7d8fb4-eaee-4882-a5ba-b4d4f128087d div.sk-item {z-index: 1;}#sk-9c7d8fb4-eaee-4882-a5ba-b4d4f128087d div.sk-parallel {display: flex;align-items: stretch;justify-content: center;background-color: white;}#sk-9c7d8fb4-eaee-4882-a5ba-b4d4f128087d div.sk-parallel::before {content: \"\";position: absolute;border-left: 1px solid gray;box-sizing: border-box;top: 2em;bottom: 0;left: 50%;}#sk-9c7d8fb4-eaee-4882-a5ba-b4d4f128087d div.sk-parallel-item {display: flex;flex-direction: column;position: relative;background-color: white;}#sk-9c7d8fb4-eaee-4882-a5ba-b4d4f128087d div.sk-parallel-item:first-child::after {align-self: flex-end;width: 50%;}#sk-9c7d8fb4-eaee-4882-a5ba-b4d4f128087d div.sk-parallel-item:last-child::after {align-self: flex-start;width: 50%;}#sk-9c7d8fb4-eaee-4882-a5ba-b4d4f128087d div.sk-parallel-item:only-child::after {width: 0;}#sk-9c7d8fb4-eaee-4882-a5ba-b4d4f128087d div.sk-dashed-wrapped {border: 1px dashed gray;margin: 0 0.4em 0.5em 0.4em;box-sizing: border-box;padding-bottom: 0.4em;background-color: white;position: relative;}#sk-9c7d8fb4-eaee-4882-a5ba-b4d4f128087d div.sk-label label {font-family: monospace;font-weight: bold;background-color: white;display: inline-block;line-height: 1.2em;}#sk-9c7d8fb4-eaee-4882-a5ba-b4d4f128087d div.sk-label-container {position: relative;z-index: 2;text-align: center;}#sk-9c7d8fb4-eaee-4882-a5ba-b4d4f128087d div.sk-container {/* jupyter's `normalize.less` sets `[hidden] { display: none; }` but bootstrap.min.css set `[hidden] { display: none !important; }` so we also need the `!important` here to be able to override the default hidden behavior on the sphinx rendered scikit-learn.org. See: https://github.com/scikit-learn/scikit-learn/issues/21755 */display: inline-block !important;position: relative;}#sk-9c7d8fb4-eaee-4882-a5ba-b4d4f128087d div.sk-text-repr-fallback {display: none;}</style><div id=\"sk-9c7d8fb4-eaee-4882-a5ba-b4d4f128087d\" class=\"sk-top-container\"><div class=\"sk-text-repr-fallback\"><pre>Pipeline(steps=[(&#x27;scaling&#x27;, StandardScaler()), (&#x27;PCA&#x27;, PCA(n_components=3)),\n",
              "                (&#x27;SVC&#x27;, SVC())])</pre><b>Please rerun this cell to show the HTML repr or trust the notebook.</b></div><div class=\"sk-container\" hidden><div class=\"sk-item sk-dashed-wrapped\"><div class=\"sk-label-container\"><div class=\"sk-label sk-toggleable\"><input class=\"sk-toggleable__control sk-hidden--visually\" id=\"a46bbf9e-c895-42a6-9176-dab0f8b3f826\" type=\"checkbox\" ><label for=\"a46bbf9e-c895-42a6-9176-dab0f8b3f826\" class=\"sk-toggleable__label sk-toggleable__label-arrow\">Pipeline</label><div class=\"sk-toggleable__content\"><pre>Pipeline(steps=[(&#x27;scaling&#x27;, StandardScaler()), (&#x27;PCA&#x27;, PCA(n_components=3)),\n",
              "                (&#x27;SVC&#x27;, SVC())])</pre></div></div></div><div class=\"sk-serial\"><div class=\"sk-item\"><div class=\"sk-estimator sk-toggleable\"><input class=\"sk-toggleable__control sk-hidden--visually\" id=\"07528d87-d5a6-4e32-9f0c-b09858da31ed\" type=\"checkbox\" ><label for=\"07528d87-d5a6-4e32-9f0c-b09858da31ed\" class=\"sk-toggleable__label sk-toggleable__label-arrow\">StandardScaler</label><div class=\"sk-toggleable__content\"><pre>StandardScaler()</pre></div></div></div><div class=\"sk-item\"><div class=\"sk-estimator sk-toggleable\"><input class=\"sk-toggleable__control sk-hidden--visually\" id=\"9abd2794-f2ab-43aa-be8d-1d6d6b90516e\" type=\"checkbox\" ><label for=\"9abd2794-f2ab-43aa-be8d-1d6d6b90516e\" class=\"sk-toggleable__label sk-toggleable__label-arrow\">PCA</label><div class=\"sk-toggleable__content\"><pre>PCA(n_components=3)</pre></div></div></div><div class=\"sk-item\"><div class=\"sk-estimator sk-toggleable\"><input class=\"sk-toggleable__control sk-hidden--visually\" id=\"0bfe88a8-0afd-44a5-a172-71f24dba440e\" type=\"checkbox\" ><label for=\"0bfe88a8-0afd-44a5-a172-71f24dba440e\" class=\"sk-toggleable__label sk-toggleable__label-arrow\">SVC</label><div class=\"sk-toggleable__content\"><pre>SVC()</pre></div></div></div></div></div></div></div>"
            ]
          },
          "metadata": {},
          "execution_count": 15
        }
      ]
    },
    {
      "cell_type": "code",
      "source": [
        "pipe2.predict(X_test)"
      ],
      "metadata": {
        "colab": {
          "base_uri": "https://localhost:8080/"
        },
        "id": "MT-Bw3KHLsST",
        "outputId": "aa497353-d56e-4f0c-c950-a915b8ad0130"
      },
      "execution_count": 16,
      "outputs": [
        {
          "output_type": "execute_result",
          "data": {
            "text/plain": [
              "array([0, 0, 0, 0, 0, 0, 1, 1, 1, 1, 0, 1, 0, 0, 1, 0, 0, 0, 0, 0, 0, 1,\n",
              "       0, 0, 0, 0, 0, 0, 0, 1, 1, 0, 1, 0, 1, 0, 0, 1, 0, 0, 0, 0, 1, 1,\n",
              "       1, 1, 1, 0, 0, 1, 1, 1, 0, 0, 1, 1, 1, 1, 1, 1, 1, 0, 1, 0, 1, 0,\n",
              "       1, 0, 1, 0, 1, 0, 1, 1, 0, 1, 1, 1, 0, 0, 1, 0, 1, 0, 0, 0, 1, 1,\n",
              "       1, 1, 0, 1, 1, 0, 0, 1, 0, 1, 0, 0, 1, 1, 0, 0, 0, 1, 1, 1, 0, 0,\n",
              "       1, 0, 1, 1, 0, 0, 0, 1, 1, 1, 1, 0, 1, 1, 0, 1, 0, 1, 0, 1, 0, 1,\n",
              "       1, 0, 1, 0, 1, 1, 1, 1, 1, 0, 0, 1, 0, 0, 0, 1, 0, 1, 0, 1, 0, 0,\n",
              "       1, 1, 1, 0, 1, 0, 1, 1, 0, 1, 1, 0, 0, 0, 0, 0, 0, 0, 1, 1, 0, 1,\n",
              "       0, 0, 0, 0, 0, 1, 0, 0, 0, 0, 0, 1, 1, 1, 0, 1, 1, 1, 1, 0, 0, 0,\n",
              "       1, 0, 1, 1, 1, 0, 1, 1, 1, 0, 1, 0, 0, 1, 0, 0, 0, 0, 1, 1, 1, 0,\n",
              "       1, 0, 1, 0, 1, 0, 1, 1, 1, 0, 1, 0, 1, 0, 0, 0, 1, 1, 1, 1, 1, 0,\n",
              "       0, 0, 1, 0, 1, 1, 1, 1, 0, 1, 1, 1, 1, 0, 0, 0, 1, 1, 0, 0, 1, 1,\n",
              "       1, 0, 1, 1, 0, 0, 0, 0, 1, 0, 1, 0, 0, 0, 1, 0, 0, 1, 0, 1, 0, 1,\n",
              "       1, 1, 1, 1, 1, 0, 0, 0, 0, 1, 0, 1, 1, 0, 0, 0, 1, 0, 1, 1, 1, 1,\n",
              "       1, 0, 1, 1, 0, 1, 0, 1, 1, 1, 1, 1, 1, 1, 0, 0, 1, 0, 1, 0, 1, 1])"
            ]
          },
          "metadata": {},
          "execution_count": 16
        }
      ]
    },
    {
      "cell_type": "markdown",
      "source": [
        "Complex examples of columns transformer"
      ],
      "metadata": {
        "id": "R8F7s1ZZZ1xk"
      }
    },
    {
      "cell_type": "code",
      "source": [
        "from sklearn.impute import SimpleImputer"
      ],
      "metadata": {
        "id": "FupkQx2BZxVz"
      },
      "execution_count": 17,
      "outputs": []
    },
    {
      "cell_type": "code",
      "source": [
        "## numerical processing pipeline\n",
        "import numpy as np\n",
        "numeric_processor=Pipeline(\n",
        "    steps=[(\"imputation_mean\",SimpleImputer(missing_values=np.nan,strategy=\"mean\")),\n",
        "          (\"scaler\",StandardScaler())]\n",
        "\n",
        ")"
      ],
      "metadata": {
        "id": "a7lPgn6pZ3fl"
      },
      "execution_count": 18,
      "outputs": []
    },
    {
      "cell_type": "code",
      "source": [
        "##categorical procesing pipeline\n",
        "from sklearn.preprocessing import OneHotEncoder\n",
        "categorical_processor=Pipeline(\n",
        "    steps=[(\"imputation_consatnt\",SimpleImputer(fill_value=\"missing\",strategy=\"constant\")),\n",
        "          (\"onehot\",OneHotEncoder(handle_unknown=\"ignore\"))]\n",
        "\n",
        ")"
      ],
      "metadata": {
        "id": "o6SNzkogZ7X-"
      },
      "execution_count": 19,
      "outputs": []
    },
    {
      "cell_type": "code",
      "source": [
        "## combine processing technqiues\n",
        "from sklearn.compose import ColumnTransformer\n",
        "preprocessor=ColumnTransformer(\n",
        "    [(\"categorical\",categorical_processor,[\"gender\",\"City\"]),\n",
        "    (\"numerical\",numeric_processor,[\"age\",\"height\"])]\n",
        "\n",
        "\n",
        ")"
      ],
      "metadata": {
        "id": "lM0tYeCvZ9rX"
      },
      "execution_count": 20,
      "outputs": []
    },
    {
      "cell_type": "code",
      "source": [
        "from sklearn.pipeline import make_pipeline\n",
        "pipe=make_pipeline(preprocessor,LogisticRegression())"
      ],
      "metadata": {
        "id": "TFI06859aA9N"
      },
      "execution_count": 21,
      "outputs": []
    },
    {
      "cell_type": "code",
      "source": [
        "pipe"
      ],
      "metadata": {
        "colab": {
          "base_uri": "https://localhost:8080/",
          "height": 227
        },
        "id": "s1v50XUcaEQu",
        "outputId": "520d5cb7-1f9f-4a17-b924-c8de9fd09a76"
      },
      "execution_count": 22,
      "outputs": [
        {
          "output_type": "execute_result",
          "data": {
            "text/plain": [
              "Pipeline(steps=[('columntransformer',\n",
              "                 ColumnTransformer(transformers=[('categorical',\n",
              "                                                  Pipeline(steps=[('imputation_consatnt',\n",
              "                                                                   SimpleImputer(fill_value='missing',\n",
              "                                                                                 strategy='constant')),\n",
              "                                                                  ('onehot',\n",
              "                                                                   OneHotEncoder(handle_unknown='ignore'))]),\n",
              "                                                  ['gender', 'City']),\n",
              "                                                 ('numerical',\n",
              "                                                  Pipeline(steps=[('imputation_mean',\n",
              "                                                                   SimpleImputer()),\n",
              "                                                                  ('scaler',\n",
              "                                                                   StandardScaler())]),\n",
              "                                                  ['age', 'height'])])),\n",
              "                ('logisticregression', LogisticRegression())])"
            ],
            "text/html": [
              "<style>#sk-0a255a43-5f97-4340-b937-2604875851e1 {color: black;background-color: white;}#sk-0a255a43-5f97-4340-b937-2604875851e1 pre{padding: 0;}#sk-0a255a43-5f97-4340-b937-2604875851e1 div.sk-toggleable {background-color: white;}#sk-0a255a43-5f97-4340-b937-2604875851e1 label.sk-toggleable__label {cursor: pointer;display: block;width: 100%;margin-bottom: 0;padding: 0.3em;box-sizing: border-box;text-align: center;}#sk-0a255a43-5f97-4340-b937-2604875851e1 label.sk-toggleable__label-arrow:before {content: \"▸\";float: left;margin-right: 0.25em;color: #696969;}#sk-0a255a43-5f97-4340-b937-2604875851e1 label.sk-toggleable__label-arrow:hover:before {color: black;}#sk-0a255a43-5f97-4340-b937-2604875851e1 div.sk-estimator:hover label.sk-toggleable__label-arrow:before {color: black;}#sk-0a255a43-5f97-4340-b937-2604875851e1 div.sk-toggleable__content {max-height: 0;max-width: 0;overflow: hidden;text-align: left;background-color: #f0f8ff;}#sk-0a255a43-5f97-4340-b937-2604875851e1 div.sk-toggleable__content pre {margin: 0.2em;color: black;border-radius: 0.25em;background-color: #f0f8ff;}#sk-0a255a43-5f97-4340-b937-2604875851e1 input.sk-toggleable__control:checked~div.sk-toggleable__content {max-height: 200px;max-width: 100%;overflow: auto;}#sk-0a255a43-5f97-4340-b937-2604875851e1 input.sk-toggleable__control:checked~label.sk-toggleable__label-arrow:before {content: \"▾\";}#sk-0a255a43-5f97-4340-b937-2604875851e1 div.sk-estimator input.sk-toggleable__control:checked~label.sk-toggleable__label {background-color: #d4ebff;}#sk-0a255a43-5f97-4340-b937-2604875851e1 div.sk-label input.sk-toggleable__control:checked~label.sk-toggleable__label {background-color: #d4ebff;}#sk-0a255a43-5f97-4340-b937-2604875851e1 input.sk-hidden--visually {border: 0;clip: rect(1px 1px 1px 1px);clip: rect(1px, 1px, 1px, 1px);height: 1px;margin: -1px;overflow: hidden;padding: 0;position: absolute;width: 1px;}#sk-0a255a43-5f97-4340-b937-2604875851e1 div.sk-estimator {font-family: monospace;background-color: #f0f8ff;border: 1px dotted black;border-radius: 0.25em;box-sizing: border-box;margin-bottom: 0.5em;}#sk-0a255a43-5f97-4340-b937-2604875851e1 div.sk-estimator:hover {background-color: #d4ebff;}#sk-0a255a43-5f97-4340-b937-2604875851e1 div.sk-parallel-item::after {content: \"\";width: 100%;border-bottom: 1px solid gray;flex-grow: 1;}#sk-0a255a43-5f97-4340-b937-2604875851e1 div.sk-label:hover label.sk-toggleable__label {background-color: #d4ebff;}#sk-0a255a43-5f97-4340-b937-2604875851e1 div.sk-serial::before {content: \"\";position: absolute;border-left: 1px solid gray;box-sizing: border-box;top: 2em;bottom: 0;left: 50%;}#sk-0a255a43-5f97-4340-b937-2604875851e1 div.sk-serial {display: flex;flex-direction: column;align-items: center;background-color: white;padding-right: 0.2em;padding-left: 0.2em;}#sk-0a255a43-5f97-4340-b937-2604875851e1 div.sk-item {z-index: 1;}#sk-0a255a43-5f97-4340-b937-2604875851e1 div.sk-parallel {display: flex;align-items: stretch;justify-content: center;background-color: white;}#sk-0a255a43-5f97-4340-b937-2604875851e1 div.sk-parallel::before {content: \"\";position: absolute;border-left: 1px solid gray;box-sizing: border-box;top: 2em;bottom: 0;left: 50%;}#sk-0a255a43-5f97-4340-b937-2604875851e1 div.sk-parallel-item {display: flex;flex-direction: column;position: relative;background-color: white;}#sk-0a255a43-5f97-4340-b937-2604875851e1 div.sk-parallel-item:first-child::after {align-self: flex-end;width: 50%;}#sk-0a255a43-5f97-4340-b937-2604875851e1 div.sk-parallel-item:last-child::after {align-self: flex-start;width: 50%;}#sk-0a255a43-5f97-4340-b937-2604875851e1 div.sk-parallel-item:only-child::after {width: 0;}#sk-0a255a43-5f97-4340-b937-2604875851e1 div.sk-dashed-wrapped {border: 1px dashed gray;margin: 0 0.4em 0.5em 0.4em;box-sizing: border-box;padding-bottom: 0.4em;background-color: white;position: relative;}#sk-0a255a43-5f97-4340-b937-2604875851e1 div.sk-label label {font-family: monospace;font-weight: bold;background-color: white;display: inline-block;line-height: 1.2em;}#sk-0a255a43-5f97-4340-b937-2604875851e1 div.sk-label-container {position: relative;z-index: 2;text-align: center;}#sk-0a255a43-5f97-4340-b937-2604875851e1 div.sk-container {/* jupyter's `normalize.less` sets `[hidden] { display: none; }` but bootstrap.min.css set `[hidden] { display: none !important; }` so we also need the `!important` here to be able to override the default hidden behavior on the sphinx rendered scikit-learn.org. See: https://github.com/scikit-learn/scikit-learn/issues/21755 */display: inline-block !important;position: relative;}#sk-0a255a43-5f97-4340-b937-2604875851e1 div.sk-text-repr-fallback {display: none;}</style><div id=\"sk-0a255a43-5f97-4340-b937-2604875851e1\" class=\"sk-top-container\"><div class=\"sk-text-repr-fallback\"><pre>Pipeline(steps=[(&#x27;columntransformer&#x27;,\n",
              "                 ColumnTransformer(transformers=[(&#x27;categorical&#x27;,\n",
              "                                                  Pipeline(steps=[(&#x27;imputation_consatnt&#x27;,\n",
              "                                                                   SimpleImputer(fill_value=&#x27;missing&#x27;,\n",
              "                                                                                 strategy=&#x27;constant&#x27;)),\n",
              "                                                                  (&#x27;onehot&#x27;,\n",
              "                                                                   OneHotEncoder(handle_unknown=&#x27;ignore&#x27;))]),\n",
              "                                                  [&#x27;gender&#x27;, &#x27;City&#x27;]),\n",
              "                                                 (&#x27;numerical&#x27;,\n",
              "                                                  Pipeline(steps=[(&#x27;imputation_mean&#x27;,\n",
              "                                                                   SimpleImputer()),\n",
              "                                                                  (&#x27;scaler&#x27;,\n",
              "                                                                   StandardScaler())]),\n",
              "                                                  [&#x27;age&#x27;, &#x27;height&#x27;])])),\n",
              "                (&#x27;logisticregression&#x27;, LogisticRegression())])</pre><b>Please rerun this cell to show the HTML repr or trust the notebook.</b></div><div class=\"sk-container\" hidden><div class=\"sk-item sk-dashed-wrapped\"><div class=\"sk-label-container\"><div class=\"sk-label sk-toggleable\"><input class=\"sk-toggleable__control sk-hidden--visually\" id=\"ed59b518-aeac-4632-8d95-28ccabc38a0b\" type=\"checkbox\" ><label for=\"ed59b518-aeac-4632-8d95-28ccabc38a0b\" class=\"sk-toggleable__label sk-toggleable__label-arrow\">Pipeline</label><div class=\"sk-toggleable__content\"><pre>Pipeline(steps=[(&#x27;columntransformer&#x27;,\n",
              "                 ColumnTransformer(transformers=[(&#x27;categorical&#x27;,\n",
              "                                                  Pipeline(steps=[(&#x27;imputation_consatnt&#x27;,\n",
              "                                                                   SimpleImputer(fill_value=&#x27;missing&#x27;,\n",
              "                                                                                 strategy=&#x27;constant&#x27;)),\n",
              "                                                                  (&#x27;onehot&#x27;,\n",
              "                                                                   OneHotEncoder(handle_unknown=&#x27;ignore&#x27;))]),\n",
              "                                                  [&#x27;gender&#x27;, &#x27;City&#x27;]),\n",
              "                                                 (&#x27;numerical&#x27;,\n",
              "                                                  Pipeline(steps=[(&#x27;imputation_mean&#x27;,\n",
              "                                                                   SimpleImputer()),\n",
              "                                                                  (&#x27;scaler&#x27;,\n",
              "                                                                   StandardScaler())]),\n",
              "                                                  [&#x27;age&#x27;, &#x27;height&#x27;])])),\n",
              "                (&#x27;logisticregression&#x27;, LogisticRegression())])</pre></div></div></div><div class=\"sk-serial\"><div class=\"sk-item sk-dashed-wrapped\"><div class=\"sk-label-container\"><div class=\"sk-label sk-toggleable\"><input class=\"sk-toggleable__control sk-hidden--visually\" id=\"6b81e37f-9e22-449a-8d45-755cd3972bf0\" type=\"checkbox\" ><label for=\"6b81e37f-9e22-449a-8d45-755cd3972bf0\" class=\"sk-toggleable__label sk-toggleable__label-arrow\">columntransformer: ColumnTransformer</label><div class=\"sk-toggleable__content\"><pre>ColumnTransformer(transformers=[(&#x27;categorical&#x27;,\n",
              "                                 Pipeline(steps=[(&#x27;imputation_consatnt&#x27;,\n",
              "                                                  SimpleImputer(fill_value=&#x27;missing&#x27;,\n",
              "                                                                strategy=&#x27;constant&#x27;)),\n",
              "                                                 (&#x27;onehot&#x27;,\n",
              "                                                  OneHotEncoder(handle_unknown=&#x27;ignore&#x27;))]),\n",
              "                                 [&#x27;gender&#x27;, &#x27;City&#x27;]),\n",
              "                                (&#x27;numerical&#x27;,\n",
              "                                 Pipeline(steps=[(&#x27;imputation_mean&#x27;,\n",
              "                                                  SimpleImputer()),\n",
              "                                                 (&#x27;scaler&#x27;, StandardScaler())]),\n",
              "                                 [&#x27;age&#x27;, &#x27;height&#x27;])])</pre></div></div></div><div class=\"sk-parallel\"><div class=\"sk-parallel-item\"><div class=\"sk-item\"><div class=\"sk-label-container\"><div class=\"sk-label sk-toggleable\"><input class=\"sk-toggleable__control sk-hidden--visually\" id=\"6bad4446-c889-48ea-a843-274771399d2a\" type=\"checkbox\" ><label for=\"6bad4446-c889-48ea-a843-274771399d2a\" class=\"sk-toggleable__label sk-toggleable__label-arrow\">categorical</label><div class=\"sk-toggleable__content\"><pre>[&#x27;gender&#x27;, &#x27;City&#x27;]</pre></div></div></div><div class=\"sk-serial\"><div class=\"sk-item\"><div class=\"sk-serial\"><div class=\"sk-item\"><div class=\"sk-estimator sk-toggleable\"><input class=\"sk-toggleable__control sk-hidden--visually\" id=\"7a358ddd-fcdc-4b47-b4b7-a05ddcf21652\" type=\"checkbox\" ><label for=\"7a358ddd-fcdc-4b47-b4b7-a05ddcf21652\" class=\"sk-toggleable__label sk-toggleable__label-arrow\">SimpleImputer</label><div class=\"sk-toggleable__content\"><pre>SimpleImputer(fill_value=&#x27;missing&#x27;, strategy=&#x27;constant&#x27;)</pre></div></div></div><div class=\"sk-item\"><div class=\"sk-estimator sk-toggleable\"><input class=\"sk-toggleable__control sk-hidden--visually\" id=\"a838abcb-0570-44fc-a4ec-0cdc8c988ccf\" type=\"checkbox\" ><label for=\"a838abcb-0570-44fc-a4ec-0cdc8c988ccf\" class=\"sk-toggleable__label sk-toggleable__label-arrow\">OneHotEncoder</label><div class=\"sk-toggleable__content\"><pre>OneHotEncoder(handle_unknown=&#x27;ignore&#x27;)</pre></div></div></div></div></div></div></div></div><div class=\"sk-parallel-item\"><div class=\"sk-item\"><div class=\"sk-label-container\"><div class=\"sk-label sk-toggleable\"><input class=\"sk-toggleable__control sk-hidden--visually\" id=\"d818a6c7-9543-4c35-9cdc-5e4449d89f85\" type=\"checkbox\" ><label for=\"d818a6c7-9543-4c35-9cdc-5e4449d89f85\" class=\"sk-toggleable__label sk-toggleable__label-arrow\">numerical</label><div class=\"sk-toggleable__content\"><pre>[&#x27;age&#x27;, &#x27;height&#x27;]</pre></div></div></div><div class=\"sk-serial\"><div class=\"sk-item\"><div class=\"sk-serial\"><div class=\"sk-item\"><div class=\"sk-estimator sk-toggleable\"><input class=\"sk-toggleable__control sk-hidden--visually\" id=\"5fcac28f-8e24-40c2-ac3e-54ff6cfcf630\" type=\"checkbox\" ><label for=\"5fcac28f-8e24-40c2-ac3e-54ff6cfcf630\" class=\"sk-toggleable__label sk-toggleable__label-arrow\">SimpleImputer</label><div class=\"sk-toggleable__content\"><pre>SimpleImputer()</pre></div></div></div><div class=\"sk-item\"><div class=\"sk-estimator sk-toggleable\"><input class=\"sk-toggleable__control sk-hidden--visually\" id=\"d5c74159-2db1-4e3a-99cc-5a855cfeabd3\" type=\"checkbox\" ><label for=\"d5c74159-2db1-4e3a-99cc-5a855cfeabd3\" class=\"sk-toggleable__label sk-toggleable__label-arrow\">StandardScaler</label><div class=\"sk-toggleable__content\"><pre>StandardScaler()</pre></div></div></div></div></div></div></div></div></div></div><div class=\"sk-item\"><div class=\"sk-estimator sk-toggleable\"><input class=\"sk-toggleable__control sk-hidden--visually\" id=\"faab6948-0ab6-4336-88c9-cad0b1cb63b5\" type=\"checkbox\" ><label for=\"faab6948-0ab6-4336-88c9-cad0b1cb63b5\" class=\"sk-toggleable__label sk-toggleable__label-arrow\">LogisticRegression</label><div class=\"sk-toggleable__content\"><pre>LogisticRegression()</pre></div></div></div></div></div></div></div>"
            ]
          },
          "metadata": {},
          "execution_count": 22
        }
      ]
    },
    {
      "cell_type": "code",
      "source": [
        "#finelly we need just a dataset with the pervuis column to train with it"
      ],
      "metadata": {
        "id": "c7k6JBuGaOLH"
      },
      "execution_count": null,
      "outputs": []
    }
  ]
}