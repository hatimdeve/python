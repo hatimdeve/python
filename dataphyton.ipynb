{
  "nbformat": 4,
  "nbformat_minor": 0,
  "metadata": {
    "colab": {
      "name": "Untitled11.ipynb",
      "provenance": [],
      "authorship_tag": "ABX9TyOKgFpTlaQoQ58MAjTgD6AT",
      "include_colab_link": true
    },
    "kernelspec": {
      "name": "python3",
      "display_name": "Python 3"
    },
    "language_info": {
      "name": "python"
    }
  },
  "cells": [
    {
      "cell_type": "markdown",
      "metadata": {
        "id": "view-in-github",
        "colab_type": "text"
      },
      "source": [
        "<a href=\"https://colab.research.google.com/github/hatimdeve/python/blob/main/dataphyton.ipynb\" target=\"_parent\"><img src=\"https://colab.research.google.com/assets/colab-badge.svg\" alt=\"Open In Colab\"/></a>"
      ]
    },
    {
      "cell_type": "code",
      "execution_count": null,
      "metadata": {
        "colab": {
          "base_uri": "https://localhost:8080/"
        },
        "id": "ZlHLShxnNYPJ",
        "outputId": "4e6f1b7d-a855-43fb-d67a-f63e1ed88504"
      },
      "outputs": [
        {
          "output_type": "stream",
          "name": "stdout",
          "text": [
            "htmada\n"
          ]
        }
      ],
      "source": [
        "h=\"hatim and ayoub best\"\n",
        "print(h[0:12:2])\n",
        "#h[start:end:step]"
      ]
    },
    {
      "cell_type": "code",
      "source": [
        "h[::-1]"
      ],
      "metadata": {
        "colab": {
          "base_uri": "https://localhost:8080/",
          "height": 35
        },
        "id": "cwm4hsiq8-Ak",
        "outputId": "cbfbcf85-61e2-4777-8238-86d4a678048a"
      },
      "execution_count": null,
      "outputs": [
        {
          "output_type": "execute_result",
          "data": {
            "text/plain": [
              "'tseb buoya dna mitah'"
            ],
            "application/vnd.google.colaboratory.intrinsic+json": {
              "type": "string"
            }
          },
          "metadata": {},
          "execution_count": 3
        }
      ]
    },
    {
      "cell_type": "code",
      "source": [
        "h?\n"
      ],
      "metadata": {
        "id": "Qnv2Z_1GF00s"
      },
      "execution_count": null,
      "outputs": []
    },
    {
      "cell_type": "code",
      "source": [
        "h.capitalize?"
      ],
      "metadata": {
        "id": "KtgtIxqhGAro"
      },
      "execution_count": null,
      "outputs": []
    },
    {
      "cell_type": "code",
      "source": [
        "print(\"hatim\\\"darkaoui\\\"ayoub\")"
      ],
      "metadata": {
        "colab": {
          "base_uri": "https://localhost:8080/"
        },
        "id": "AJfwMmN-IEVg",
        "outputId": "be62511f-ed95-45dd-fcad-8752ce9d11e7"
      },
      "execution_count": null,
      "outputs": [
        {
          "output_type": "stream",
          "name": "stdout",
          "text": [
            "hatim\"darkaoui\"ayoub\n"
          ]
        }
      ]
    },
    {
      "cell_type": "code",
      "source": [
        "print('hatim\"darkaoui\"ayoub')"
      ],
      "metadata": {
        "colab": {
          "base_uri": "https://localhost:8080/"
        },
        "id": "bvXlmQDTIX-v",
        "outputId": "78d1bf3f-8233-4eb4-b445-02ff323635f1"
      },
      "execution_count": null,
      "outputs": [
        {
          "output_type": "stream",
          "name": "stdout",
          "text": [
            "hatim\"darkaoui\"ayoub\n"
          ]
        }
      ]
    },
    {
      "cell_type": "code",
      "source": [
        "print(\"hi\\nhatim\\tdarkaoui\")"
      ],
      "metadata": {
        "colab": {
          "base_uri": "https://localhost:8080/"
        },
        "id": "70YOkiEVIbhi",
        "outputId": "fc0fcc3b-a641-481e-fee7-7842c2311c4a"
      },
      "execution_count": null,
      "outputs": [
        {
          "output_type": "stream",
          "name": "stdout",
          "text": [
            "hi\n",
            "hatim\tdarkaoui\n"
          ]
        }
      ]
    },
    {
      "cell_type": "code",
      "source": [
        "print(r\"hi\\nhatim\\tdarkaoui\")"
      ],
      "metadata": {
        "colab": {
          "base_uri": "https://localhost:8080/"
        },
        "id": "7IPFoU6AIjlZ",
        "outputId": "82e21f5d-5f4b-4513-d05d-9ed8473e2ee1"
      },
      "execution_count": null,
      "outputs": [
        {
          "output_type": "stream",
          "name": "stdout",
          "text": [
            "hi\\nhatim\\tdarkaoui\n"
          ]
        }
      ]
    },
    {
      "cell_type": "code",
      "source": [
        "l=[\"hatim\",2,4,\"ayoub\",\"me\"]"
      ],
      "metadata": {
        "id": "pTHbBCMVKjOr"
      },
      "execution_count": 1,
      "outputs": []
    },
    {
      "cell_type": "code",
      "source": [
        "l2=l\n",
        "l2"
      ],
      "metadata": {
        "colab": {
          "base_uri": "https://localhost:8080/"
        },
        "id": "gqQNSIhGKtNh",
        "outputId": "313f7cd9-42e3-4d38-a6e8-41ed18ea6ca3"
      },
      "execution_count": 3,
      "outputs": [
        {
          "output_type": "execute_result",
          "data": {
            "text/plain": [
              "['hatim', 2, 4, 'ayoub', 'me']"
            ]
          },
          "metadata": {},
          "execution_count": 3
        }
      ]
    },
    {
      "cell_type": "code",
      "source": [
        "#now if we change l2 its will effect l becouse we didnt create a memory for l2 it a reference to l its mean l and l2 are refencing to the same data to if we dont want that we use copy\n",
        "#slicing is also consider like copy\n",
        "l2[2]=\"orange\"\n",
        "l2"
      ],
      "metadata": {
        "colab": {
          "base_uri": "https://localhost:8080/"
        },
        "id": "KP5hQFRbKyB0",
        "outputId": "27819697-7352-4e47-89ce-40bfda4869b7"
      },
      "execution_count": 13,
      "outputs": [
        {
          "output_type": "execute_result",
          "data": {
            "text/plain": [
              "['hatim', 2, 'orange', 'ayoub', 'me']"
            ]
          },
          "metadata": {},
          "execution_count": 13
        }
      ]
    },
    {
      "cell_type": "code",
      "source": [
        "l"
      ],
      "metadata": {
        "colab": {
          "base_uri": "https://localhost:8080/"
        },
        "id": "2qgXDuYTLgeK",
        "outputId": "45dba0fa-f324-45f1-de63-4960f4ade3cc"
      },
      "execution_count": 6,
      "outputs": [
        {
          "output_type": "execute_result",
          "data": {
            "text/plain": [
              "['hatim', 2, 'orange', 'ayoub', 'me']"
            ]
          },
          "metadata": {},
          "execution_count": 6
        }
      ]
    },
    {
      "cell_type": "code",
      "source": [
        "l3=l.copy()\n",
        "l3"
      ],
      "metadata": {
        "colab": {
          "base_uri": "https://localhost:8080/"
        },
        "id": "qLPpkV0mLiES",
        "outputId": "3769e893-4dea-4ab7-e43d-a922dbe655a8"
      },
      "execution_count": 9,
      "outputs": [
        {
          "output_type": "execute_result",
          "data": {
            "text/plain": [
              "['hatim', 2, 'orange', 'ayoub', 'me']"
            ]
          },
          "metadata": {},
          "execution_count": 9
        }
      ]
    },
    {
      "cell_type": "code",
      "source": [
        "l3[3]=\"hhhhhhhhh\"\n",
        "l3"
      ],
      "metadata": {
        "colab": {
          "base_uri": "https://localhost:8080/"
        },
        "id": "dsA0k2XlLv07",
        "outputId": "e1cb1a39-5c59-42fe-aa68-8810783e3bd4"
      },
      "execution_count": 11,
      "outputs": [
        {
          "output_type": "execute_result",
          "data": {
            "text/plain": [
              "['hatim', 2, 'orange', 'hhhhhhhhh', 'me']"
            ]
          },
          "metadata": {},
          "execution_count": 11
        }
      ]
    },
    {
      "cell_type": "code",
      "source": [
        "l"
      ],
      "metadata": {
        "colab": {
          "base_uri": "https://localhost:8080/"
        },
        "id": "SBpuVCwFL0wL",
        "outputId": "c88c21b9-041a-48f2-eb64-7d278f4fde7b"
      },
      "execution_count": 12,
      "outputs": [
        {
          "output_type": "execute_result",
          "data": {
            "text/plain": [
              "['hatim', 2, 'orange', 'ayoub', 'me']"
            ]
          },
          "metadata": {},
          "execution_count": 12
        }
      ]
    },
    {
      "cell_type": "code",
      "source": [
        "l.append?\n"
      ],
      "metadata": {
        "id": "b4L90Xs3MNR3"
      },
      "execution_count": 14,
      "outputs": []
    },
    {
      "cell_type": "code",
      "source": [
        "l4=[x**2 for x in range(10)]\n",
        "l4"
      ],
      "metadata": {
        "colab": {
          "base_uri": "https://localhost:8080/"
        },
        "id": "hEV9zf7OQ6RE",
        "outputId": "05bab3d7-1766-444d-ba15-6684d19c2993"
      },
      "execution_count": 15,
      "outputs": [
        {
          "output_type": "execute_result",
          "data": {
            "text/plain": [
              "[0, 1, 4, 9, 16, 25, 36, 49, 64, 81]"
            ]
          },
          "metadata": {},
          "execution_count": 15
        }
      ]
    }
  ]
}