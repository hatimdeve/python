{
  "nbformat": 4,
  "nbformat_minor": 0,
  "metadata": {
    "colab": {
      "name": "Untitled6.ipynb",
      "provenance": [],
      "authorship_tag": "ABX9TyM8vu7xiBd57A+WZ4UpsFrx",
      "include_colab_link": true
    },
    "kernelspec": {
      "name": "python3",
      "display_name": "Python 3"
    },
    "language_info": {
      "name": "python"
    }
  },
  "cells": [
    {
      "cell_type": "markdown",
      "metadata": {
        "id": "view-in-github",
        "colab_type": "text"
      },
      "source": [
        "<a href=\"https://colab.research.google.com/github/hatimdeve/python/blob/main/Untitled6.ipynb\" target=\"_parent\"><img src=\"https://colab.research.google.com/assets/colab-badge.svg\" alt=\"Open In Colab\"/></a>"
      ]
    },
    {
      "cell_type": "code",
      "execution_count": 1,
      "metadata": {
        "id": "OAPNCkbBmRn2"
      },
      "outputs": [],
      "source": [
        "import pandas as pd\n",
        "import numpy as np\n",
        "import matplotlib.pyplot as plt"
      ]
    },
    {
      "cell_type": "code",
      "source": [
        "from sklearn.cluster import KMeans\n",
        "from sklearn.preprocessing import StandardScaler"
      ],
      "metadata": {
        "id": "G3wtswl8mg8H"
      },
      "execution_count": 2,
      "outputs": []
    },
    {
      "cell_type": "code",
      "source": [
        "from google.colab import files \n",
        "import io\n",
        "uploaded=files.upload()"
      ],
      "metadata": {
        "colab": {
          "resources": {
            "http://localhost:8080/nbextensions/google.colab/files.js": {
              "data": "Ly8gQ29weXJpZ2h0IDIwMTcgR29vZ2xlIExMQwovLwovLyBMaWNlbnNlZCB1bmRlciB0aGUgQXBhY2hlIExpY2Vuc2UsIFZlcnNpb24gMi4wICh0aGUgIkxpY2Vuc2UiKTsKLy8geW91IG1heSBub3QgdXNlIHRoaXMgZmlsZSBleGNlcHQgaW4gY29tcGxpYW5jZSB3aXRoIHRoZSBMaWNlbnNlLgovLyBZb3UgbWF5IG9idGFpbiBhIGNvcHkgb2YgdGhlIExpY2Vuc2UgYXQKLy8KLy8gICAgICBodHRwOi8vd3d3LmFwYWNoZS5vcmcvbGljZW5zZXMvTElDRU5TRS0yLjAKLy8KLy8gVW5sZXNzIHJlcXVpcmVkIGJ5IGFwcGxpY2FibGUgbGF3IG9yIGFncmVlZCB0byBpbiB3cml0aW5nLCBzb2Z0d2FyZQovLyBkaXN0cmlidXRlZCB1bmRlciB0aGUgTGljZW5zZSBpcyBkaXN0cmlidXRlZCBvbiBhbiAiQVMgSVMiIEJBU0lTLAovLyBXSVRIT1VUIFdBUlJBTlRJRVMgT1IgQ09ORElUSU9OUyBPRiBBTlkgS0lORCwgZWl0aGVyIGV4cHJlc3Mgb3IgaW1wbGllZC4KLy8gU2VlIHRoZSBMaWNlbnNlIGZvciB0aGUgc3BlY2lmaWMgbGFuZ3VhZ2UgZ292ZXJuaW5nIHBlcm1pc3Npb25zIGFuZAovLyBsaW1pdGF0aW9ucyB1bmRlciB0aGUgTGljZW5zZS4KCi8qKgogKiBAZmlsZW92ZXJ2aWV3IEhlbHBlcnMgZm9yIGdvb2dsZS5jb2xhYiBQeXRob24gbW9kdWxlLgogKi8KKGZ1bmN0aW9uKHNjb3BlKSB7CmZ1bmN0aW9uIHNwYW4odGV4dCwgc3R5bGVBdHRyaWJ1dGVzID0ge30pIHsKICBjb25zdCBlbGVtZW50ID0gZG9jdW1lbnQuY3JlYXRlRWxlbWVudCgnc3BhbicpOwogIGVsZW1lbnQudGV4dENvbnRlbnQgPSB0ZXh0OwogIGZvciAoY29uc3Qga2V5IG9mIE9iamVjdC5rZXlzKHN0eWxlQXR0cmlidXRlcykpIHsKICAgIGVsZW1lbnQuc3R5bGVba2V5XSA9IHN0eWxlQXR0cmlidXRlc1trZXldOwogIH0KICByZXR1cm4gZWxlbWVudDsKfQoKLy8gTWF4IG51bWJlciBvZiBieXRlcyB3aGljaCB3aWxsIGJlIHVwbG9hZGVkIGF0IGEgdGltZS4KY29uc3QgTUFYX1BBWUxPQURfU0laRSA9IDEwMCAqIDEwMjQ7CgpmdW5jdGlvbiBfdXBsb2FkRmlsZXMoaW5wdXRJZCwgb3V0cHV0SWQpIHsKICBjb25zdCBzdGVwcyA9IHVwbG9hZEZpbGVzU3RlcChpbnB1dElkLCBvdXRwdXRJZCk7CiAgY29uc3Qgb3V0cHV0RWxlbWVudCA9IGRvY3VtZW50LmdldEVsZW1lbnRCeUlkKG91dHB1dElkKTsKICAvLyBDYWNoZSBzdGVwcyBvbiB0aGUgb3V0cHV0RWxlbWVudCB0byBtYWtlIGl0IGF2YWlsYWJsZSBmb3IgdGhlIG5leHQgY2FsbAogIC8vIHRvIHVwbG9hZEZpbGVzQ29udGludWUgZnJvbSBQeXRob24uCiAgb3V0cHV0RWxlbWVudC5zdGVwcyA9IHN0ZXBzOwoKICByZXR1cm4gX3VwbG9hZEZpbGVzQ29udGludWUob3V0cHV0SWQpOwp9CgovLyBUaGlzIGlzIHJvdWdobHkgYW4gYXN5bmMgZ2VuZXJhdG9yIChub3Qgc3VwcG9ydGVkIGluIHRoZSBicm93c2VyIHlldCksCi8vIHdoZXJlIHRoZXJlIGFyZSBtdWx0aXBsZSBhc3luY2hyb25vdXMgc3RlcHMgYW5kIHRoZSBQeXRob24gc2lkZSBpcyBnb2luZwovLyB0byBwb2xsIGZvciBjb21wbGV0aW9uIG9mIGVhY2ggc3RlcC4KLy8gVGhpcyB1c2VzIGEgUHJvbWlzZSB0byBibG9jayB0aGUgcHl0aG9uIHNpZGUgb24gY29tcGxldGlvbiBvZiBlYWNoIHN0ZXAsCi8vIHRoZW4gcGFzc2VzIHRoZSByZXN1bHQgb2YgdGhlIHByZXZpb3VzIHN0ZXAgYXMgdGhlIGlucHV0IHRvIHRoZSBuZXh0IHN0ZXAuCmZ1bmN0aW9uIF91cGxvYWRGaWxlc0NvbnRpbnVlKG91dHB1dElkKSB7CiAgY29uc3Qgb3V0cHV0RWxlbWVudCA9IGRvY3VtZW50LmdldEVsZW1lbnRCeUlkKG91dHB1dElkKTsKICBjb25zdCBzdGVwcyA9IG91dHB1dEVsZW1lbnQuc3RlcHM7CgogIGNvbnN0IG5leHQgPSBzdGVwcy5uZXh0KG91dHB1dEVsZW1lbnQubGFzdFByb21pc2VWYWx1ZSk7CiAgcmV0dXJuIFByb21pc2UucmVzb2x2ZShuZXh0LnZhbHVlLnByb21pc2UpLnRoZW4oKHZhbHVlKSA9PiB7CiAgICAvLyBDYWNoZSB0aGUgbGFzdCBwcm9taXNlIHZhbHVlIHRvIG1ha2UgaXQgYXZhaWxhYmxlIHRvIHRoZSBuZXh0CiAgICAvLyBzdGVwIG9mIHRoZSBnZW5lcmF0b3IuCiAgICBvdXRwdXRFbGVtZW50Lmxhc3RQcm9taXNlVmFsdWUgPSB2YWx1ZTsKICAgIHJldHVybiBuZXh0LnZhbHVlLnJlc3BvbnNlOwogIH0pOwp9CgovKioKICogR2VuZXJhdG9yIGZ1bmN0aW9uIHdoaWNoIGlzIGNhbGxlZCBiZXR3ZWVuIGVhY2ggYXN5bmMgc3RlcCBvZiB0aGUgdXBsb2FkCiAqIHByb2Nlc3MuCiAqIEBwYXJhbSB7c3RyaW5nfSBpbnB1dElkIEVsZW1lbnQgSUQgb2YgdGhlIGlucHV0IGZpbGUgcGlja2VyIGVsZW1lbnQuCiAqIEBwYXJhbSB7c3RyaW5nfSBvdXRwdXRJZCBFbGVtZW50IElEIG9mIHRoZSBvdXRwdXQgZGlzcGxheS4KICogQHJldHVybiB7IUl0ZXJhYmxlPCFPYmplY3Q+fSBJdGVyYWJsZSBvZiBuZXh0IHN0ZXBzLgogKi8KZnVuY3Rpb24qIHVwbG9hZEZpbGVzU3RlcChpbnB1dElkLCBvdXRwdXRJZCkgewogIGNvbnN0IGlucHV0RWxlbWVudCA9IGRvY3VtZW50LmdldEVsZW1lbnRCeUlkKGlucHV0SWQpOwogIGlucHV0RWxlbWVudC5kaXNhYmxlZCA9IGZhbHNlOwoKICBjb25zdCBvdXRwdXRFbGVtZW50ID0gZG9jdW1lbnQuZ2V0RWxlbWVudEJ5SWQob3V0cHV0SWQpOwogIG91dHB1dEVsZW1lbnQuaW5uZXJIVE1MID0gJyc7CgogIGNvbnN0IHBpY2tlZFByb21pc2UgPSBuZXcgUHJvbWlzZSgocmVzb2x2ZSkgPT4gewogICAgaW5wdXRFbGVtZW50LmFkZEV2ZW50TGlzdGVuZXIoJ2NoYW5nZScsIChlKSA9PiB7CiAgICAgIHJlc29sdmUoZS50YXJnZXQuZmlsZXMpOwogICAgfSk7CiAgfSk7CgogIGNvbnN0IGNhbmNlbCA9IGRvY3VtZW50LmNyZWF0ZUVsZW1lbnQoJ2J1dHRvbicpOwogIGlucHV0RWxlbWVudC5wYXJlbnRFbGVtZW50LmFwcGVuZENoaWxkKGNhbmNlbCk7CiAgY2FuY2VsLnRleHRDb250ZW50ID0gJ0NhbmNlbCB1cGxvYWQnOwogIGNvbnN0IGNhbmNlbFByb21pc2UgPSBuZXcgUHJvbWlzZSgocmVzb2x2ZSkgPT4gewogICAgY2FuY2VsLm9uY2xpY2sgPSAoKSA9PiB7CiAgICAgIHJlc29sdmUobnVsbCk7CiAgICB9OwogIH0pOwoKICAvLyBXYWl0IGZvciB0aGUgdXNlciB0byBwaWNrIHRoZSBmaWxlcy4KICBjb25zdCBmaWxlcyA9IHlpZWxkIHsKICAgIHByb21pc2U6IFByb21pc2UucmFjZShbcGlja2VkUHJvbWlzZSwgY2FuY2VsUHJvbWlzZV0pLAogICAgcmVzcG9uc2U6IHsKICAgICAgYWN0aW9uOiAnc3RhcnRpbmcnLAogICAgfQogIH07CgogIGNhbmNlbC5yZW1vdmUoKTsKCiAgLy8gRGlzYWJsZSB0aGUgaW5wdXQgZWxlbWVudCBzaW5jZSBmdXJ0aGVyIHBpY2tzIGFyZSBub3QgYWxsb3dlZC4KICBpbnB1dEVsZW1lbnQuZGlzYWJsZWQgPSB0cnVlOwoKICBpZiAoIWZpbGVzKSB7CiAgICByZXR1cm4gewogICAgICByZXNwb25zZTogewogICAgICAgIGFjdGlvbjogJ2NvbXBsZXRlJywKICAgICAgfQogICAgfTsKICB9CgogIGZvciAoY29uc3QgZmlsZSBvZiBmaWxlcykgewogICAgY29uc3QgbGkgPSBkb2N1bWVudC5jcmVhdGVFbGVtZW50KCdsaScpOwogICAgbGkuYXBwZW5kKHNwYW4oZmlsZS5uYW1lLCB7Zm9udFdlaWdodDogJ2JvbGQnfSkpOwogICAgbGkuYXBwZW5kKHNwYW4oCiAgICAgICAgYCgke2ZpbGUudHlwZSB8fCAnbi9hJ30pIC0gJHtmaWxlLnNpemV9IGJ5dGVzLCBgICsKICAgICAgICBgbGFzdCBtb2RpZmllZDogJHsKICAgICAgICAgICAgZmlsZS5sYXN0TW9kaWZpZWREYXRlID8gZmlsZS5sYXN0TW9kaWZpZWREYXRlLnRvTG9jYWxlRGF0ZVN0cmluZygpIDoKICAgICAgICAgICAgICAgICAgICAgICAgICAgICAgICAgICAgJ24vYSd9IC0gYCkpOwogICAgY29uc3QgcGVyY2VudCA9IHNwYW4oJzAlIGRvbmUnKTsKICAgIGxpLmFwcGVuZENoaWxkKHBlcmNlbnQpOwoKICAgIG91dHB1dEVsZW1lbnQuYXBwZW5kQ2hpbGQobGkpOwoKICAgIGNvbnN0IGZpbGVEYXRhUHJvbWlzZSA9IG5ldyBQcm9taXNlKChyZXNvbHZlKSA9PiB7CiAgICAgIGNvbnN0IHJlYWRlciA9IG5ldyBGaWxlUmVhZGVyKCk7CiAgICAgIHJlYWRlci5vbmxvYWQgPSAoZSkgPT4gewogICAgICAgIHJlc29sdmUoZS50YXJnZXQucmVzdWx0KTsKICAgICAgfTsKICAgICAgcmVhZGVyLnJlYWRBc0FycmF5QnVmZmVyKGZpbGUpOwogICAgfSk7CiAgICAvLyBXYWl0IGZvciB0aGUgZGF0YSB0byBiZSByZWFkeS4KICAgIGxldCBmaWxlRGF0YSA9IHlpZWxkIHsKICAgICAgcHJvbWlzZTogZmlsZURhdGFQcm9taXNlLAogICAgICByZXNwb25zZTogewogICAgICAgIGFjdGlvbjogJ2NvbnRpbnVlJywKICAgICAgfQogICAgfTsKCiAgICAvLyBVc2UgYSBjaHVua2VkIHNlbmRpbmcgdG8gYXZvaWQgbWVzc2FnZSBzaXplIGxpbWl0cy4gU2VlIGIvNjIxMTU2NjAuCiAgICBsZXQgcG9zaXRpb24gPSAwOwogICAgZG8gewogICAgICBjb25zdCBsZW5ndGggPSBNYXRoLm1pbihmaWxlRGF0YS5ieXRlTGVuZ3RoIC0gcG9zaXRpb24sIE1BWF9QQVlMT0FEX1NJWkUpOwogICAgICBjb25zdCBjaHVuayA9IG5ldyBVaW50OEFycmF5KGZpbGVEYXRhLCBwb3NpdGlvbiwgbGVuZ3RoKTsKICAgICAgcG9zaXRpb24gKz0gbGVuZ3RoOwoKICAgICAgY29uc3QgYmFzZTY0ID0gYnRvYShTdHJpbmcuZnJvbUNoYXJDb2RlLmFwcGx5KG51bGwsIGNodW5rKSk7CiAgICAgIHlpZWxkIHsKICAgICAgICByZXNwb25zZTogewogICAgICAgICAgYWN0aW9uOiAnYXBwZW5kJywKICAgICAgICAgIGZpbGU6IGZpbGUubmFtZSwKICAgICAgICAgIGRhdGE6IGJhc2U2NCwKICAgICAgICB9LAogICAgICB9OwoKICAgICAgbGV0IHBlcmNlbnREb25lID0gZmlsZURhdGEuYnl0ZUxlbmd0aCA9PT0gMCA/CiAgICAgICAgICAxMDAgOgogICAgICAgICAgTWF0aC5yb3VuZCgocG9zaXRpb24gLyBmaWxlRGF0YS5ieXRlTGVuZ3RoKSAqIDEwMCk7CiAgICAgIHBlcmNlbnQudGV4dENvbnRlbnQgPSBgJHtwZXJjZW50RG9uZX0lIGRvbmVgOwoKICAgIH0gd2hpbGUgKHBvc2l0aW9uIDwgZmlsZURhdGEuYnl0ZUxlbmd0aCk7CiAgfQoKICAvLyBBbGwgZG9uZS4KICB5aWVsZCB7CiAgICByZXNwb25zZTogewogICAgICBhY3Rpb246ICdjb21wbGV0ZScsCiAgICB9CiAgfTsKfQoKc2NvcGUuZ29vZ2xlID0gc2NvcGUuZ29vZ2xlIHx8IHt9OwpzY29wZS5nb29nbGUuY29sYWIgPSBzY29wZS5nb29nbGUuY29sYWIgfHwge307CnNjb3BlLmdvb2dsZS5jb2xhYi5fZmlsZXMgPSB7CiAgX3VwbG9hZEZpbGVzLAogIF91cGxvYWRGaWxlc0NvbnRpbnVlLAp9Owp9KShzZWxmKTsK",
              "ok": true,
              "headers": [
                [
                  "content-type",
                  "application/javascript"
                ]
              ],
              "status": 200,
              "status_text": ""
            }
          },
          "base_uri": "https://localhost:8080/",
          "height": 73
        },
        "id": "uBhQkQ8Nm0HG",
        "outputId": "26d45d94-5652-4de6-d2c3-771aecf1a9b4"
      },
      "execution_count": 3,
      "outputs": [
        {
          "output_type": "display_data",
          "data": {
            "text/plain": [
              "<IPython.core.display.HTML object>"
            ],
            "text/html": [
              "\n",
              "     <input type=\"file\" id=\"files-92f381bc-4042-4512-aaae-19e698ea0c34\" name=\"files[]\" multiple disabled\n",
              "        style=\"border:none\" />\n",
              "     <output id=\"result-92f381bc-4042-4512-aaae-19e698ea0c34\">\n",
              "      Upload widget is only available when the cell has been executed in the\n",
              "      current browser session. Please rerun this cell to enable.\n",
              "      </output>\n",
              "      <script src=\"/nbextensions/google.colab/files.js\"></script> "
            ]
          },
          "metadata": {}
        },
        {
          "output_type": "stream",
          "name": "stdout",
          "text": [
            "Saving kmeans_data.csv to kmeans_data.csv\n"
          ]
        }
      ]
    },
    {
      "cell_type": "code",
      "source": [
        "df=pd.read_csv(io.BytesIO(uploaded['kmeans_data.csv']))\n"
      ],
      "metadata": {
        "id": "fX5eVc9qm7nb"
      },
      "execution_count": 5,
      "outputs": []
    },
    {
      "cell_type": "code",
      "source": [
        "df.head()"
      ],
      "metadata": {
        "colab": {
          "base_uri": "https://localhost:8080/",
          "height": 206
        },
        "id": "iwvDJJoznBkV",
        "outputId": "c94e17d4-4026-4f3d-97fe-d7aa2e6515b5"
      },
      "execution_count": 6,
      "outputs": [
        {
          "output_type": "execute_result",
          "data": {
            "text/plain": [
              "   Unnamed: 0          x          y  cluster\n",
              "0           0  -8.482852  -5.603349        2\n",
              "1           1  -7.751632  -8.405334        2\n",
              "2           2 -10.967098  -9.032782        2\n",
              "3           3 -11.999447  -7.606734        2\n",
              "4           4  -1.736810  10.478015        1"
            ],
            "text/html": [
              "\n",
              "  <div id=\"df-2e3d806d-f73a-4017-83a7-0f550f9ce9a4\">\n",
              "    <div class=\"colab-df-container\">\n",
              "      <div>\n",
              "<style scoped>\n",
              "    .dataframe tbody tr th:only-of-type {\n",
              "        vertical-align: middle;\n",
              "    }\n",
              "\n",
              "    .dataframe tbody tr th {\n",
              "        vertical-align: top;\n",
              "    }\n",
              "\n",
              "    .dataframe thead th {\n",
              "        text-align: right;\n",
              "    }\n",
              "</style>\n",
              "<table border=\"1\" class=\"dataframe\">\n",
              "  <thead>\n",
              "    <tr style=\"text-align: right;\">\n",
              "      <th></th>\n",
              "      <th>Unnamed: 0</th>\n",
              "      <th>x</th>\n",
              "      <th>y</th>\n",
              "      <th>cluster</th>\n",
              "    </tr>\n",
              "  </thead>\n",
              "  <tbody>\n",
              "    <tr>\n",
              "      <th>0</th>\n",
              "      <td>0</td>\n",
              "      <td>-8.482852</td>\n",
              "      <td>-5.603349</td>\n",
              "      <td>2</td>\n",
              "    </tr>\n",
              "    <tr>\n",
              "      <th>1</th>\n",
              "      <td>1</td>\n",
              "      <td>-7.751632</td>\n",
              "      <td>-8.405334</td>\n",
              "      <td>2</td>\n",
              "    </tr>\n",
              "    <tr>\n",
              "      <th>2</th>\n",
              "      <td>2</td>\n",
              "      <td>-10.967098</td>\n",
              "      <td>-9.032782</td>\n",
              "      <td>2</td>\n",
              "    </tr>\n",
              "    <tr>\n",
              "      <th>3</th>\n",
              "      <td>3</td>\n",
              "      <td>-11.999447</td>\n",
              "      <td>-7.606734</td>\n",
              "      <td>2</td>\n",
              "    </tr>\n",
              "    <tr>\n",
              "      <th>4</th>\n",
              "      <td>4</td>\n",
              "      <td>-1.736810</td>\n",
              "      <td>10.478015</td>\n",
              "      <td>1</td>\n",
              "    </tr>\n",
              "  </tbody>\n",
              "</table>\n",
              "</div>\n",
              "      <button class=\"colab-df-convert\" onclick=\"convertToInteractive('df-2e3d806d-f73a-4017-83a7-0f550f9ce9a4')\"\n",
              "              title=\"Convert this dataframe to an interactive table.\"\n",
              "              style=\"display:none;\">\n",
              "        \n",
              "  <svg xmlns=\"http://www.w3.org/2000/svg\" height=\"24px\"viewBox=\"0 0 24 24\"\n",
              "       width=\"24px\">\n",
              "    <path d=\"M0 0h24v24H0V0z\" fill=\"none\"/>\n",
              "    <path d=\"M18.56 5.44l.94 2.06.94-2.06 2.06-.94-2.06-.94-.94-2.06-.94 2.06-2.06.94zm-11 1L8.5 8.5l.94-2.06 2.06-.94-2.06-.94L8.5 2.5l-.94 2.06-2.06.94zm10 10l.94 2.06.94-2.06 2.06-.94-2.06-.94-.94-2.06-.94 2.06-2.06.94z\"/><path d=\"M17.41 7.96l-1.37-1.37c-.4-.4-.92-.59-1.43-.59-.52 0-1.04.2-1.43.59L10.3 9.45l-7.72 7.72c-.78.78-.78 2.05 0 2.83L4 21.41c.39.39.9.59 1.41.59.51 0 1.02-.2 1.41-.59l7.78-7.78 2.81-2.81c.8-.78.8-2.07 0-2.86zM5.41 20L4 18.59l7.72-7.72 1.47 1.35L5.41 20z\"/>\n",
              "  </svg>\n",
              "      </button>\n",
              "      \n",
              "  <style>\n",
              "    .colab-df-container {\n",
              "      display:flex;\n",
              "      flex-wrap:wrap;\n",
              "      gap: 12px;\n",
              "    }\n",
              "\n",
              "    .colab-df-convert {\n",
              "      background-color: #E8F0FE;\n",
              "      border: none;\n",
              "      border-radius: 50%;\n",
              "      cursor: pointer;\n",
              "      display: none;\n",
              "      fill: #1967D2;\n",
              "      height: 32px;\n",
              "      padding: 0 0 0 0;\n",
              "      width: 32px;\n",
              "    }\n",
              "\n",
              "    .colab-df-convert:hover {\n",
              "      background-color: #E2EBFA;\n",
              "      box-shadow: 0px 1px 2px rgba(60, 64, 67, 0.3), 0px 1px 3px 1px rgba(60, 64, 67, 0.15);\n",
              "      fill: #174EA6;\n",
              "    }\n",
              "\n",
              "    [theme=dark] .colab-df-convert {\n",
              "      background-color: #3B4455;\n",
              "      fill: #D2E3FC;\n",
              "    }\n",
              "\n",
              "    [theme=dark] .colab-df-convert:hover {\n",
              "      background-color: #434B5C;\n",
              "      box-shadow: 0px 1px 3px 1px rgba(0, 0, 0, 0.15);\n",
              "      filter: drop-shadow(0px 1px 2px rgba(0, 0, 0, 0.3));\n",
              "      fill: #FFFFFF;\n",
              "    }\n",
              "  </style>\n",
              "\n",
              "      <script>\n",
              "        const buttonEl =\n",
              "          document.querySelector('#df-2e3d806d-f73a-4017-83a7-0f550f9ce9a4 button.colab-df-convert');\n",
              "        buttonEl.style.display =\n",
              "          google.colab.kernel.accessAllowed ? 'block' : 'none';\n",
              "\n",
              "        async function convertToInteractive(key) {\n",
              "          const element = document.querySelector('#df-2e3d806d-f73a-4017-83a7-0f550f9ce9a4');\n",
              "          const dataTable =\n",
              "            await google.colab.kernel.invokeFunction('convertToInteractive',\n",
              "                                                     [key], {});\n",
              "          if (!dataTable) return;\n",
              "\n",
              "          const docLinkHtml = 'Like what you see? Visit the ' +\n",
              "            '<a target=\"_blank\" href=https://colab.research.google.com/notebooks/data_table.ipynb>data table notebook</a>'\n",
              "            + ' to learn more about interactive tables.';\n",
              "          element.innerHTML = '';\n",
              "          dataTable['output_type'] = 'display_data';\n",
              "          await google.colab.output.renderOutput(dataTable, element);\n",
              "          const docLink = document.createElement('div');\n",
              "          docLink.innerHTML = docLinkHtml;\n",
              "          element.appendChild(docLink);\n",
              "        }\n",
              "      </script>\n",
              "    </div>\n",
              "  </div>\n",
              "  "
            ]
          },
          "metadata": {},
          "execution_count": 6
        }
      ]
    },
    {
      "cell_type": "code",
      "source": [
        "X=df[[\"x\",\"y\"]]\n",
        "y=df[\"cluster\"]"
      ],
      "metadata": {
        "id": "GDwMob0GnEe9"
      },
      "execution_count": 9,
      "outputs": []
    },
    {
      "cell_type": "code",
      "source": [
        "y.value_counts()"
      ],
      "metadata": {
        "colab": {
          "base_uri": "https://localhost:8080/"
        },
        "id": "OSuq1G-soAnM",
        "outputId": "17defbfe-857e-4d88-f435-bd9652b57a24"
      },
      "execution_count": 10,
      "outputs": [
        {
          "output_type": "execute_result",
          "data": {
            "text/plain": [
              "1    67\n",
              "0    67\n",
              "2    66\n",
              "Name: cluster, dtype: int64"
            ]
          },
          "metadata": {},
          "execution_count": 10
        }
      ]
    },
    {
      "cell_type": "code",
      "source": [
        "plt.scatter(df['x'],df['y'],c=df['cluster'] ,cmap='viridis')"
      ],
      "metadata": {
        "colab": {
          "base_uri": "https://localhost:8080/",
          "height": 282
        },
        "id": "XwNLPFiYnqQr",
        "outputId": "2623f88c-945f-4d8e-d922-a1af139c1aaa"
      },
      "execution_count": 12,
      "outputs": [
        {
          "output_type": "execute_result",
          "data": {
            "text/plain": [
              "<matplotlib.collections.PathCollection at 0x7fad23fac050>"
            ]
          },
          "metadata": {},
          "execution_count": 12
        },
        {
          "output_type": "display_data",
          "data": {
            "text/plain": [
              "<Figure size 432x288 with 1 Axes>"
            ],
            "image/png": "[encoded data removed]"
          },
          "metadata": {
            "needs_background": "light"
          }
        }
      ]
    },
    {
      "cell_type": "code",
      "source": [
        "model=KMeans(n_clusters=3,random_state=42)"
      ],
      "metadata": {
        "id": "_y3JETzHnc0T"
      },
      "execution_count": 13,
      "outputs": []
    },
    {
      "cell_type": "code",
      "source": [
        "scaler=StandardScaler()\n",
        "X_scaled=scaler.fit_transform(X)\n",
        "X_scaled"
      ],
      "metadata": {
        "colab": {
          "base_uri": "https://localhost:8080/"
        },
        "id": "Kgm7-JhOonIP",
        "outputId": "5d18e3d9-6315-4d89-d32d-d81c84b34b6e"
      },
      "execution_count": 14,
      "outputs": [
        {
          "output_type": "execute_result",
          "data": {
            "text/plain": [
              "array([[-1.01200363, -0.60606415],\n",
              "       [-0.86550679, -1.04265203],\n",
              "       [-1.5097118 , -1.14041707],\n",
              "       [-1.71653856, -0.91821912],\n",
              "       [ 0.33953731,  1.89963378],\n",
              "       [ 0.38183922,  1.1890842 ],\n",
              "       [ 0.24668446, -0.74232845],\n",
              "       [-1.44313178, -0.76182643],\n",
              "       [ 0.32130834, -0.75849023],\n",
              "       [ 0.83110494,  1.27684537],\n",
              "       [ 0.31775088, -0.39338956],\n",
              "       [ 1.20365218, -0.4290876 ],\n",
              "       [-0.07305683,  1.51966781],\n",
              "       [ 0.63827173,  0.98134203],\n",
              "       [ 1.52205697, -0.42280098],\n",
              "       [ 0.17043691,  1.06578799],\n",
              "       [ 1.5381542 , -0.52935538],\n",
              "       [ 0.27161133, -0.71651135],\n",
              "       [-1.35289151, -0.93641563],\n",
              "       [ 0.79308339, -0.35212834],\n",
              "       [ 0.14633873,  2.31330628],\n",
              "       [ 1.14228061, -0.30354302],\n",
              "       [ 1.12503491, -0.04177872],\n",
              "       [-1.17977302, -1.09578279],\n",
              "       [-2.01238779, -0.86540408],\n",
              "       [ 0.19152374,  1.57228952],\n",
              "       [ 0.83261025,  1.80799546],\n",
              "       [ 0.66508288, -0.6110459 ],\n",
              "       [-1.12827817, -0.15250042],\n",
              "       [ 0.52241815, -0.65585313],\n",
              "       [ 1.08583214,  0.93547726],\n",
              "       [-0.97693538, -0.88741691],\n",
              "       [-1.33595694, -0.63086238],\n",
              "       [ 0.19953335,  1.28083486],\n",
              "       [-0.94950185, -0.56065403],\n",
              "       [ 0.66982823, -0.13484351],\n",
              "       [ 0.771665  , -0.5499059 ],\n",
              "       [ 0.2774257 ,  1.22860396],\n",
              "       [-0.73472586, -1.2187408 ],\n",
              "       [-0.63187335, -1.00655651],\n",
              "       [-0.69416438, -1.0000677 ],\n",
              "       [ 0.83271023, -0.6731856 ],\n",
              "       [-1.23344655, -1.15789171],\n",
              "       [ 0.65096239, -0.19455043],\n",
              "       [-1.39325586, -1.1523753 ],\n",
              "       [-1.49484828, -0.92704231],\n",
              "       [-1.45695253, -0.70502951],\n",
              "       [ 0.5305949 ,  0.81280245],\n",
              "       [ 0.83400406, -0.42253729],\n",
              "       [ 0.48904363,  1.24633059],\n",
              "       [ 1.23175068, -0.82532629],\n",
              "       [ 0.69624505, -0.30159923],\n",
              "       [ 0.39391193, -0.396964  ],\n",
              "       [ 0.79094876,  1.60143791],\n",
              "       [ 0.15899074,  1.26432118],\n",
              "       [ 0.39413305,  1.76704755],\n",
              "       [ 0.86405762, -0.59555499],\n",
              "       [-2.03584663, -0.69245567],\n",
              "       [ 0.59854512,  1.21885094],\n",
              "       [ 0.46524738,  1.14933569],\n",
              "       [ 1.13205009, -0.79021258],\n",
              "       [-0.43326051,  1.24378251],\n",
              "       [ 1.18403178, -0.2105801 ],\n",
              "       [ 1.104018  , -0.45293091],\n",
              "       [ 0.90917625, -0.41741704],\n",
              "       [ 0.24940112,  1.47054385],\n",
              "       [-1.34378511, -0.96019197],\n",
              "       [-1.15864684, -0.53793509],\n",
              "       [-1.38106913, -1.24446575],\n",
              "       [ 1.32888112, -0.15656749],\n",
              "       [-1.97542172, -0.86113934],\n",
              "       [ 0.55709844,  0.94043404],\n",
              "       [-1.16375964, -1.04708045],\n",
              "       [-0.92116118, -0.60408404],\n",
              "       [ 0.19744613, -0.320971  ],\n",
              "       [-1.17058201, -0.94932292],\n",
              "       [-1.30394578, -0.6337949 ],\n",
              "       [-1.3764337 , -0.98303292],\n",
              "       [ 0.29643725, -0.16983389],\n",
              "       [-1.48660911, -1.07632091],\n",
              "       [ 0.88544854,  0.85471602],\n",
              "       [ 0.9006815 , -0.4157147 ],\n",
              "       [ 0.2206326 ,  1.52350226],\n",
              "       [ 1.13326512,  1.24514921],\n",
              "       [ 1.59514484, -0.57810326],\n",
              "       [ 0.15529192, -0.46145428],\n",
              "       [ 1.07078756, -0.73342709],\n",
              "       [-1.84390846, -0.81992791],\n",
              "       [ 0.90990583,  1.40916629],\n",
              "       [ 0.3576306 , -0.73136536],\n",
              "       [ 1.29042424, -0.89780574],\n",
              "       [-1.36084266, -0.77007109],\n",
              "       [-1.0236826 , -1.24868072],\n",
              "       [ 0.7946996 , -1.12120567],\n",
              "       [ 0.79884711,  1.66676256],\n",
              "       [ 0.99941321,  1.13889426],\n",
              "       [-1.36837982, -1.15198567],\n",
              "       [-0.3156759 , -1.46559894],\n",
              "       [ 0.70861868, -0.75627388],\n",
              "       [-0.21082427, -0.41430294],\n",
              "       [ 0.32589705,  1.68264012],\n",
              "       [ 0.66619897,  1.21855463],\n",
              "       [ 0.49361345,  0.86887702],\n",
              "       [ 0.5068162 , -0.32337893],\n",
              "       [ 0.74177357, -0.61694863],\n",
              "       [-1.2885399 , -0.96008709],\n",
              "       [ 1.02551131,  1.48533141],\n",
              "       [ 0.43201879,  1.6076944 ],\n",
              "       [ 1.08249536, -0.21716763],\n",
              "       [-0.15265406,  0.0228466 ],\n",
              "       [ 0.97586982, -0.63467294],\n",
              "       [-1.10238107, -0.75993911],\n",
              "       [ 0.24621536, -0.32010977],\n",
              "       [ 0.53736804,  1.0345916 ],\n",
              "       [ 1.21425236,  1.07790672],\n",
              "       [-0.00967353,  1.27374229],\n",
              "       [ 0.53207638,  1.10912864],\n",
              "       [-2.00277598, -1.07059812],\n",
              "       [ 1.33013807, -0.90971954],\n",
              "       [-1.25463745, -1.18101253],\n",
              "       [ 0.53775645,  1.29669311],\n",
              "       [ 0.27952731, -0.01116382],\n",
              "       [ 0.32201814,  1.62673893],\n",
              "       [ 0.4329941 , -0.57783171],\n",
              "       [ 0.57365299,  1.3368478 ],\n",
              "       [ 0.65082523,  1.46367753],\n",
              "       [ 0.65445327,  1.46194122],\n",
              "       [ 0.30583921,  0.15038392],\n",
              "       [ 0.58866226, -0.19466067],\n",
              "       [ 0.77058657, -0.65992081],\n",
              "       [-1.73473402, -0.85951427],\n",
              "       [ 1.21530606, -0.27942699],\n",
              "       [ 0.37146484,  1.57464784],\n",
              "       [ 0.13101932,  1.17557222],\n",
              "       [ 0.55048135, -0.073215  ],\n",
              "       [ 0.65268228, -0.76005108],\n",
              "       [-0.12524786,  1.16172152],\n",
              "       [ 0.9416221 , -0.8284188 ],\n",
              "       [ 0.72962605, -0.78012446],\n",
              "       [-0.7595301 , -1.02429527],\n",
              "       [ 0.42537401,  2.05365336],\n",
              "       [ 0.41686597,  1.17237934],\n",
              "       [-1.36156287, -0.58182547],\n",
              "       [-1.63215702, -0.80053828],\n",
              "       [ 0.16868097,  1.78349137],\n",
              "       [-1.25198849, -1.21104408],\n",
              "       [ 0.45461854,  1.24370166],\n",
              "       [-1.99356038, -0.90548851],\n",
              "       [ 0.84572607,  1.2164603 ],\n",
              "       [ 1.11029307, -0.23099879],\n",
              "       [-0.56892205, -0.70265972],\n",
              "       [ 0.93402653,  1.29095874],\n",
              "       [ 0.94118216, -0.72375673],\n",
              "       [ 0.23509561,  0.96041989],\n",
              "       [ 0.60301693,  1.08704203],\n",
              "       [-1.1171891 , -1.21457231],\n",
              "       [ 1.21399433,  1.29509665],\n",
              "       [-1.25249385, -0.47819655],\n",
              "       [-0.986743  , -0.98144191],\n",
              "       [-1.7860204 , -1.39231882],\n",
              "       [ 0.55320627,  1.41715403],\n",
              "       [-2.0662249 , -0.69934998],\n",
              "       [-1.29343007, -0.77757608],\n",
              "       [ 0.27276956,  0.9418664 ],\n",
              "       [ 0.5434236 , -0.41841969],\n",
              "       [ 1.44526084,  0.0087187 ],\n",
              "       [-0.34167386,  1.31912378],\n",
              "       [-1.77472219, -0.84542156],\n",
              "       [ 0.8071665 ,  1.92415722],\n",
              "       [-1.41813112, -0.95059979],\n",
              "       [ 0.26971005,  1.01953102],\n",
              "       [ 0.90067843, -0.28122456],\n",
              "       [ 0.65661936,  0.89004119],\n",
              "       [ 0.42245075, -0.4677546 ],\n",
              "       [-1.75542164, -0.6517002 ],\n",
              "       [ 0.57522939,  1.23645334],\n",
              "       [ 0.4217509 ,  1.70837732],\n",
              "       [-1.23985549, -0.31419264],\n",
              "       [-1.50342086, -0.14237115],\n",
              "       [ 0.77945616,  1.27706047],\n",
              "       [ 0.9279614 , -0.16082871],\n",
              "       [-1.39989229, -0.77754158],\n",
              "       [ 0.94719192, -0.41984737],\n",
              "       [-2.06564945, -0.83849631],\n",
              "       [-0.71883787, -0.62819834],\n",
              "       [-1.17765783, -1.01506935],\n",
              "       [ 0.70341832, -0.73729614],\n",
              "       [-1.26359243, -0.85907062],\n",
              "       [-1.08899436, -0.88801288],\n",
              "       [ 1.132047  , -0.55152432],\n",
              "       [ 0.52620981,  1.43321291],\n",
              "       [ 0.74377108, -0.4080321 ],\n",
              "       [ 0.77533462, -0.82445019],\n",
              "       [ 1.43342856, -0.2291756 ],\n",
              "       [ 0.72870678,  1.06563353],\n",
              "       [-1.07957503, -1.20998434],\n",
              "       [ 0.37227198, -0.76930174],\n",
              "       [ 0.16267793,  1.55547825],\n",
              "       [ 0.15970539,  1.31058228],\n",
              "       [-1.7069593 , -0.84258607]])"
            ]
          },
          "metadata": {},
          "execution_count": 14
        }
      ]
    },
    {
      "cell_type": "code",
      "source": [
        "model.fit(X_scaled)"
      ],
      "metadata": {
        "colab": {
          "base_uri": "https://localhost:8080/"
        },
        "id": "6O5GRDXyo7CT",
        "outputId": "12c5a68c-2d6d-4ced-bcb8-b6377ac5401e"
      },
      "execution_count": 15,
      "outputs": [
        {
          "output_type": "execute_result",
          "data": {
            "text/plain": [
              "KMeans(n_clusters=3, random_state=42)"
            ]
          },
          "metadata": {},
          "execution_count": 15
        }
      ]
    },
    {
      "cell_type": "code",
      "source": [
        "plt.scatter(df['x'],df['y'],c=model.labels_ ,cmap='viridis')"
      ],
      "metadata": {
        "colab": {
          "base_uri": "https://localhost:8080/",
          "height": 282
        },
        "id": "MtqeGegKpMN0",
        "outputId": "7a2b0e47-b38b-4411-b767-2d986cbab29f"
      },
      "execution_count": 18,
      "outputs": [
        {
          "output_type": "execute_result",
          "data": {
            "text/plain": [
              "<matplotlib.collections.PathCollection at 0x7fad23a2b910>"
            ]
          },
          "metadata": {},
          "execution_count": 18
        },
        {
          "output_type": "display_data",
          "data": {
            "text/plain": [
              "<Figure size 432x288 with 1 Axes>"
            ],
            "image/png": "[encoded data removed]"
          },
          "metadata": {
            "needs_background": "light"
          }
        }
      ]
    }
  ]
}